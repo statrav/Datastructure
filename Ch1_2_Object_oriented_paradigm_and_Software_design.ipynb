{
  "cells": [
    {
      "cell_type": "markdown",
      "metadata": {
        "id": "view-in-github",
        "colab_type": "text"
      },
      "source": [
        "<a href=\"https://colab.research.google.com/github/statrav/pages/blob/main/Ch1_2_Object_oriented_paradigm_and_Software_design.ipynb\" target=\"_parent\"><img src=\"https://colab.research.google.com/assets/colab-badge.svg\" alt=\"Open In Colab\"/></a>"
      ]
    },
    {
      "cell_type": "markdown",
      "id": "9cd28fdf",
      "metadata": {
        "id": "9cd28fdf"
      },
      "source": [
        "# 01. Design and Programming"
      ]
    },
    {
      "cell_type": "markdown",
      "id": "79eebe14",
      "metadata": {
        "id": "79eebe14"
      },
      "source": [
        "[Software Design과 Software Impementation]\n",
        "- Software Design을 실제화시켜 Python을 통해 실행시킬 수 있음"
      ]
    },
    {
      "cell_type": "markdown",
      "id": "22354dc9",
      "metadata": {
        "id": "22354dc9"
      },
      "source": [
        "[좋은 소프트웨어 설계란?]\n",
        "\n",
        "1. Correctness : \n",
        "   - 고객의 목적에 부합하는 Software Design이 되어야 함\n",
        "   - Error가 없어야 함\n",
        "    \n",
        "2. Robustness :\n",
        "   - 예상되는 잘못된 입력에 대해서 사전 확인 및 대책이 필요\n",
        "    \n",
        "3. Flexibility : \n",
        "   - 유연하게 미래에 수정하고 보완할 수 있어야 함\n",
        "    \n",
        "4. Usability and Reusability :\n",
        "   - 좋은 지원이 필요\n",
        "   - 다른 목적/환경에서도 사용할 수 있을 때 그 활용성은 더욱 커질 수 있음\n",
        "    \n",
        "5. Efficiency :\n",
        "   - 실행이 쉬워야 함\n",
        "   - 작은 사이즈일 수록 좋음\n",
        "   - 빠른 실행이 가능할 수록 좋음"
      ]
    },
    {
      "cell_type": "markdown",
      "id": "dfe4c3e4",
      "metadata": {
        "id": "dfe4c3e4"
      },
      "source": [
        "[Object-Oreinted Design]\n",
        "\n",
        "설계란 어떠해야 하는가?\n",
        " : 실제 세계의 concepts를 Abstract(추상화)를 통해서 설계의 Entity(독립체)로 나타낼 수 있어야 한다\n",
        " \n",
        " - 개념이름\n",
        " - 개념특성\n",
        " - 개념행동"
      ]
    },
    {
      "cell_type": "markdown",
      "id": "0bc546c3",
      "metadata": {
        "id": "0bc546c3"
      },
      "source": [
        "[Class와 Instance]\n",
        "\n",
        "1. Class\n",
        "    - 하나의 디지인이자, 이 디자인을 실행시킨 결과 (설계도)\n",
        "    - 미리 설계하고 구현해두는 것 (추상화)\n",
        "\n",
        "2. Instance\n",
        "    - 실행을 통해 생성되는 객체\n",
        "    - 실제 세계의 독립체들에 연결되는 것"
      ]
    },
    {
      "cell_type": "markdown",
      "id": "f4c68a90",
      "metadata": {
        "id": "f4c68a90"
      },
      "source": [
        "# 02. UML notation\n",
        "\n",
        "1. UML(Unified Modeling Language) : 실제 세계의 독립체들을 추상화하여 표현하는 하나의 표준화된 기법\n",
        "2. UML 표기법 : \n",
        "    - Abstract Class : Person\n",
        "    - Class : Customer\n",
        "    - Named instance : Park::Customer\n",
        "    - Unnamed instance : Customer\n",
        "    - Visibility options\n",
        "        - '+' : public\n",
        "        - '#' : protected\n",
        "        - '-' : private\n",
        "    - Member variable : +-# (name):(type) = (default value)\n",
        "    - Methods : +_# (name)(arguments)):(type)\n",
        "    \n"
      ]
    },
    {
      "cell_type": "markdown",
      "id": "e68c6e4c",
      "metadata": {
        "id": "e68c6e4c"
      },
      "source": [
        "# 03. Encapsulation and Inheritance"
      ]
    },
    {
      "cell_type": "markdown",
      "id": "9c05a999",
      "metadata": {
        "id": "9c05a999"
      },
      "source": [
        "[Encapsulation]\n",
        "\n",
        "1. 객체 = 데이터 + 행동\n",
        "    - 데이터(Data) : field, member, variable, attribute\n",
        "    - 행동(Behavior) : method, member function, operation\n",
        " \n",
        "2. 구현에 대한 책임을 위임할 수 있는 하나의 방법\n",
        "3. Visibility 옵션을 이용하여 진행\n",
        "    - private : method는 pubilc으로 하여, data를 private하게 관리함\n",
        "4. Python은 기본적으로 Visibility Option을 제공하지 않음\n",
        "\n",
        "\n",
        "[Inheritance]\n",
        "\n",
        "1. 기존의 Atrribute(member variable, methods 등)를 descendants에게 제공\n",
        "2. Superclass : ancestor(조상)의 역할 → generalize한 특성들을 가짐\n",
        "3. Subclass : 보다 specialized된 특성들을 가짐\n",
        "\n",
        "![image.png](data:image/png;base64,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)\n",
        "출처 : https://www.whitman.edu/mathematics/java_tutorial/java/javaOO/subclasses.html"
      ]
    },
    {
      "cell_type": "code",
      "execution_count": null,
      "id": "7fa5a863",
      "metadata": {
        "id": "7fa5a863"
      },
      "outputs": [],
      "source": [
        "# Inheritance in Python\n",
        "\n",
        "class Father(object):\n",
        "    strHomeTown = \"Jeju\"\n",
        "    def __init__(self):\n",
        "        print(\"Father is created\")\n",
        "    def doFatherThing(self):\n",
        "        print(\"Father's action\")\n",
        "    def doRunning(self):\n",
        "        print(\"Slow\")\n",
        "        \n",
        "class Mother(object):\n",
        "    strHomeTown = \"Seoul\"\n",
        "    def __init__(self):\n",
        "        print(\"Mother is created\")\n",
        "    def doMotherThing(self):\n",
        "        print(\"Mother's action\")\n",
        "\n",
        "class Child(Father, Mother):\n",
        "    strName = \"Moon\"\n",
        "    def __int__(self):\n",
        "        super(Child, self).__init__()\n",
        "        print(\"Child is created\")\n",
        "    def doRunning(self):\n",
        "        print(\"Fast\")\n"
      ]
    },
    {
      "cell_type": "code",
      "execution_count": null,
      "id": "e2f35d09",
      "metadata": {
        "id": "e2f35d09",
        "outputId": "296aec83-172a-4766-95f0-fdc82a16d3a0"
      },
      "outputs": [
        {
          "name": "stdout",
          "output_type": "stream",
          "text": [
            "Father is created\n"
          ]
        }
      ],
      "source": [
        "me = Child()"
      ]
    },
    {
      "cell_type": "code",
      "execution_count": null,
      "id": "cf9cdbea",
      "metadata": {
        "scrolled": true,
        "id": "cf9cdbea",
        "outputId": "45fab44d-0a8f-4f43-8ea9-cb2841132eb8"
      },
      "outputs": [
        {
          "name": "stdout",
          "output_type": "stream",
          "text": [
            "Father's action\n"
          ]
        }
      ],
      "source": [
        "me.doFatherThing()"
      ]
    },
    {
      "cell_type": "code",
      "execution_count": null,
      "id": "947e36d0",
      "metadata": {
        "id": "947e36d0",
        "outputId": "eb38baa2-983a-4ca0-946c-a5844d757079"
      },
      "outputs": [
        {
          "name": "stdout",
          "output_type": "stream",
          "text": [
            "Mother's action\n"
          ]
        }
      ],
      "source": [
        "me.doMotherThing()"
      ]
    },
    {
      "cell_type": "code",
      "execution_count": null,
      "id": "41fceb82",
      "metadata": {
        "id": "41fceb82",
        "outputId": "d275e7d8-8bbf-4a0c-f889-36b2b6fd1c2d"
      },
      "outputs": [
        {
          "name": "stdout",
          "output_type": "stream",
          "text": [
            "Fast\n"
          ]
        }
      ],
      "source": [
        "me.doRunning()"
      ]
    },
    {
      "cell_type": "code",
      "execution_count": null,
      "id": "b763e836",
      "metadata": {
        "id": "b763e836",
        "outputId": "d6cd62d8-0b78-43c1-e459-d334e45e1094"
      },
      "outputs": [
        {
          "data": {
            "text/plain": [
              "'Moon'"
            ]
          },
          "execution_count": 11,
          "metadata": {},
          "output_type": "execute_result"
        }
      ],
      "source": [
        "me.strName"
      ]
    },
    {
      "cell_type": "code",
      "execution_count": null,
      "id": "7ad67fa5",
      "metadata": {
        "id": "7ad67fa5",
        "outputId": "77cc91be-2d6f-42b7-ccf2-b500563e3d0e"
      },
      "outputs": [
        {
          "data": {
            "text/plain": [
              "'Jeju'"
            ]
          },
          "execution_count": 12,
          "metadata": {},
          "output_type": "execute_result"
        }
      ],
      "source": [
        "me.strHomeTown"
      ]
    },
    {
      "cell_type": "markdown",
      "id": "7a209d94",
      "metadata": {
        "id": "7a209d94"
      },
      "source": [
        "# 04. Self and Super"
      ]
    },
    {
      "cell_type": "markdown",
      "id": "552c1f56",
      "metadata": {
        "id": "552c1f56"
      },
      "source": [
        "[self]\n",
        "\n",
        "1. 자기자신을 지칭하는 객체\n",
        " \n",
        "[super]\n",
        "\n",
        "1. 자신이 상속받고 있는 class"
      ]
    },
    {
      "cell_type": "code",
      "execution_count": null,
      "id": "1987a6e2",
      "metadata": {
        "id": "1987a6e2"
      },
      "outputs": [],
      "source": [
        "class Child(Father, Mother):\n",
        "    strName = \"Moon\"\n",
        "    def __inti(self, paramName, paramHome):\n",
        "        super(Child, self).__init__(paramHome)\n",
        "        self.strName = paramName\n",
        "        print(\"Child is created\")"
      ]
    },
    {
      "cell_type": "markdown",
      "id": "11be5ba5",
      "metadata": {
        "id": "11be5ba5"
      },
      "source": [
        "# 05. Polymorphism"
      ]
    },
    {
      "cell_type": "markdown",
      "id": "cf7ce018",
      "metadata": {
        "id": "cf7ce018"
      },
      "source": [
        "→ 어원 = Poly : 다양한 / morphism : 모양\n",
        "\n",
        "- 유사한 모습을 하고 있지만, 완전히 다른 행동을 하는 것을 지칭함"
      ]
    },
    {
      "cell_type": "markdown",
      "id": "abed2e49",
      "metadata": {
        "id": "abed2e49"
      },
      "source": [
        "1. Method Overriding : 기존의 method를 무시하고 새로운 method를 차용함\n",
        "2. Method Overloading : method의 name은 동일하지만 parameter가 달라서 여러가자의 다른 형태로 실행될 수 있음"
      ]
    },
    {
      "cell_type": "code",
      "execution_count": null,
      "id": "c40972e1",
      "metadata": {
        "id": "c40972e1"
      },
      "outputs": [],
      "source": [
        "class Hotel1 :\n",
        "    strAddress = \"Daejeon\"\n",
        "    def openDoor(self):\n",
        "        print(\"Door opened\")\n",
        "    def checkIn(self):\n",
        "        print(\"Someone checks in for 1 day\")\n",
        "    def checkIn(self, days):\n",
        "        print(\"Someone checks in for\", days, \"days\")"
      ]
    },
    {
      "cell_type": "code",
      "execution_count": null,
      "id": "3775fc3e",
      "metadata": {
        "id": "3775fc3e"
      },
      "outputs": [],
      "source": [
        "#Overriding\n",
        "class Hotel2:\n",
        "    def openDoor(self):\n",
        "        print(\"Bellboy opens a door\")\n",
        "    def checkIn(self, days=1):  #Overloading\n",
        "        print(\"Someone checks in for\", days, \"days\")"
      ]
    },
    {
      "cell_type": "code",
      "execution_count": null,
      "id": "e2b1c4f6",
      "metadata": {
        "id": "e2b1c4f6"
      },
      "outputs": [],
      "source": [
        "lotteHotel = Hotel2()"
      ]
    },
    {
      "cell_type": "code",
      "execution_count": null,
      "id": "0d124ece",
      "metadata": {
        "id": "0d124ece",
        "outputId": "e1c66236-3a6b-48cf-bbb2-057cdee17750"
      },
      "outputs": [
        {
          "name": "stdout",
          "output_type": "stream",
          "text": [
            "Someone checks in for 2 days\n"
          ]
        }
      ],
      "source": [
        "lotteHotel.checkIn(2)"
      ]
    },
    {
      "cell_type": "markdown",
      "id": "3b228302",
      "metadata": {
        "id": "3b228302"
      },
      "source": [
        "[Abstract Class]\n",
        "\n",
        "- abstract method를 보유하고 있는 Class\n",
        "- 미완성의 class이기 때문에 instance를 시킬 수는 없음"
      ]
    },
    {
      "cell_type": "code",
      "execution_count": null,
      "id": "1a259c02",
      "metadata": {
        "id": "1a259c02"
      },
      "outputs": [],
      "source": [
        "from abc import ABC, abstractclassmethod\n",
        "\n",
        "class Room(ABC):\n",
        "    @abstractclassmethod\n",
        "    def openDoor(self):\n",
        "        pass\n",
        "    @abstractclassmethod\n",
        "    def openWindow(self):\n",
        "        pass\n",
        "    \n",
        "class BedRoom(Room):\n",
        "    def openDoor(self):\n",
        "        print(\"Open bedroom door\")\n",
        "    def openWindow(self):\n",
        "        print(\"Open bedroom window\")\n",
        "        \n",
        "class Lobby(Room):\n",
        "    def openDoor(self):\n",
        "        print(\"Open lobby door\")"
      ]
    },
    {
      "cell_type": "code",
      "execution_count": null,
      "id": "9783cd0b",
      "metadata": {
        "id": "9783cd0b",
        "outputId": "5f1e3f9d-07a7-48dd-c9f8-285fc14a3746"
      },
      "outputs": [
        {
          "name": "stdout",
          "output_type": "stream",
          "text": [
            "True True\n"
          ]
        }
      ],
      "source": [
        "room1 = BedRoom()\n",
        "print(issubclass(BedRoom, Room), isinstance(room1, Room))"
      ]
    },
    {
      "cell_type": "code",
      "execution_count": null,
      "id": "1899e046",
      "metadata": {
        "id": "1899e046",
        "outputId": "1c5769ad-e5d5-4f31-acd1-1dd73fc0b829"
      },
      "outputs": [
        {
          "ename": "TypeError",
          "evalue": "Can't instantiate abstract class Lobby with abstract method openWindow",
          "output_type": "error",
          "traceback": [
            "\u001b[1;31m---------------------------------------------------------------------------\u001b[0m",
            "\u001b[1;31mTypeError\u001b[0m                                 Traceback (most recent call last)",
            "Input \u001b[1;32mIn [12]\u001b[0m, in \u001b[0;36m<cell line: 1>\u001b[1;34m()\u001b[0m\n\u001b[1;32m----> 1\u001b[0m lobby1 \u001b[38;5;241m=\u001b[39m \u001b[43mLobby\u001b[49m\u001b[43m(\u001b[49m\u001b[43m)\u001b[49m\n\u001b[0;32m      2\u001b[0m \u001b[38;5;28mprint\u001b[39m(\u001b[38;5;28missubclass\u001b[39m(Lobby, Room), \u001b[38;5;28misinstance\u001b[39m(lobby1, Room))\n",
            "\u001b[1;31mTypeError\u001b[0m: Can't instantiate abstract class Lobby with abstract method openWindow"
          ]
        }
      ],
      "source": [
        "#완전히 구현되지 않은 instance를 구현하고자 했을 시, 오류 발생 (:abstract method가 있습니다)\n",
        "#openWindow까지 추가되어야 완전히 구현되었다고 볼 수 있음\n",
        "\n",
        "lobby1 = Lobby()\n",
        "print(issubclass(Lobby, Room), isinstance(lobby1, Room))"
      ]
    },
    {
      "cell_type": "markdown",
      "id": "3836b8e1",
      "metadata": {
        "id": "3836b8e1"
      },
      "source": [
        "[Object]\n",
        "\n",
        "1. object : 모든 Pythod의 class들은 object의 하위라고 볼 수 있음\n",
        "2. hidden method of object #override가능\n",
        "    - __init__ : constructor \n",
        "    - __del__ : deconstructor \n",
        "    - __eq__ : equality\n",
        "    - __cmp__ : comparision\n",
        "    - __add__ : string 연산\n",
        "    "
      ]
    },
    {
      "cell_type": "markdown",
      "id": "2499fedf",
      "metadata": {
        "id": "2499fedf"
      },
      "source": [
        "# 06. Structure and Relationship\n",
        "\n",
        "![image.png](data:image/png;base64,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)\n",
        "    [출처] https://javarevisited.blogspot.com/2014/02/ifference-between-association-vs-composition-vs-aggregation.html#axzz7fVpelzdB\n"
      ]
    },
    {
      "cell_type": "markdown",
      "id": "c00cdf26",
      "metadata": {
        "id": "c00cdf26"
      },
      "source": [
        "1. Generalization\n",
        " - 근본적으로 Inheritance relationship을 의미함 (superclass / subclass)\n",
        " - is-a relationship\n",
        " "
      ]
    }
  ],
  "metadata": {
    "kernelspec": {
      "display_name": "Python 3 (ipykernel)",
      "language": "python",
      "name": "python3"
    },
    "language_info": {
      "codemirror_mode": {
        "name": "ipython",
        "version": 3
      },
      "file_extension": ".py",
      "mimetype": "text/x-python",
      "name": "python",
      "nbconvert_exporter": "python",
      "pygments_lexer": "ipython3",
      "version": "3.9.13"
    },
    "colab": {
      "provenance": [],
      "include_colab_link": true
    }
  },
  "nbformat": 4,
  "nbformat_minor": 5
}
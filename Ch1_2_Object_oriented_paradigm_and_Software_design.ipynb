{
  "cells": [
    {
      "cell_type": "markdown",
      "metadata": {
        "id": "view-in-github",
        "colab_type": "text"
      },
      "source": [
        "<a href=\"https://colab.research.google.com/github/statrav/pages/blob/main/Ch1_2_Object_oriented_paradigm_and_Software_design.ipynb\" target=\"_parent\"><img src=\"https://colab.research.google.com/assets/colab-badge.svg\" alt=\"Open In Colab\"/></a>"
      ]
    },
    {
      "cell_type": "markdown",
      "id": "9cd28fdf",
      "metadata": {
        "id": "9cd28fdf"
      },
      "source": [
        "# 01. Design and Programming"
      ]
    },
    {
      "cell_type": "markdown",
      "id": "79eebe14",
      "metadata": {
        "id": "79eebe14"
      },
      "source": [
        "[Software Design과 Software Impementation]\n",
        "- Software Design을 실제화시켜 Python을 통해 실행시킬 수 있음"
      ]
    },
    {
      "cell_type": "markdown",
      "id": "22354dc9",
      "metadata": {
        "id": "22354dc9"
      },
      "source": [
        "[좋은 소프트웨어 설계란?]\n",
        "\n",
        "1. Correctness : \n",
        "   - 고객의 목적에 부합하는 Software Design이 되어야 함\n",
        "   - Error가 없어야 함\n",
        "    \n",
        "2. Robustness :\n",
        "   - 예상되는 잘못된 입력에 대해서 사전 확인 및 대책이 필요\n",
        "    \n",
        "3. Flexibility : \n",
        "   - 유연하게 미래에 수정하고 보완할 수 있어야 함\n",
        "    \n",
        "4. Usability and Reusability :\n",
        "   - 좋은 지원이 필요\n",
        "   - 다른 목적/환경에서도 사용할 수 있을 때 그 활용성은 더욱 커질 수 있음\n",
        "    \n",
        "5. Efficiency :\n",
        "   - 실행이 쉬워야 함\n",
        "   - 작은 사이즈일 수록 좋음\n",
        "   - 빠른 실행이 가능할 수록 좋음"
      ]
    },
    {
      "cell_type": "markdown",
      "id": "dfe4c3e4",
      "metadata": {
        "id": "dfe4c3e4"
      },
      "source": [
        "[Object-Oreinted Design]\n",
        "\n",
        "설계란 어떠해야 하는가?\n",
        " : 실제 세계의 concepts를 Abstract(추상화)를 통해서 설계의 Entity(독립체)로 나타낼 수 있어야 한다\n",
        " \n",
        " - 개념이름\n",
        " - 개념특성\n",
        " - 개념행동"
      ]
    },
    {
      "cell_type": "markdown",
      "id": "0bc546c3",
      "metadata": {
        "id": "0bc546c3"
      },
      "source": [
        "[Class와 Instance]\n",
        "\n",
        "1. Class\n",
        "    - 하나의 디지인이자, 이 디자인을 실행시킨 결과 (설계도)\n",
        "    - 미리 설계하고 구현해두는 것 (추상화)\n",
        "\n",
        "2. Instance\n",
        "    - 실행을 통해 생성되는 객체\n",
        "    - 실제 세계의 독립체들에 연결되는 것"
      ]
    },
    {
      "cell_type": "markdown",
      "id": "f4c68a90",
      "metadata": {
        "id": "f4c68a90"
      },
      "source": [
        "# 02. UML notation\n",
        "\n",
        "1. UML(Unified Modeling Language) : 실제 세계의 독립체들을 추상화하여 표현하는 하나의 표준화된 기법\n",
        "2. UML 표기법 : \n",
        "    - Abstract Class : Person\n",
        "    - Class : Customer\n",
        "    - Named instance : Park::Customer\n",
        "    - Unnamed instance : Customer\n",
        "    - Visibility options\n",
        "        - '+' : public\n",
        "        - '#' : protected\n",
        "        - '-' : private\n",
        "    - Member variable : +-# (name):(type) = (default value)\n",
        "    - Methods : +_# (name)(arguments)):(type)\n",
        "    \n"
      ]
    },
    {
      "cell_type": "markdown",
      "id": "e68c6e4c",
      "metadata": {
        "id": "e68c6e4c"
      },
      "source": [
        "# 03. Encapsulation and Inheritance"
      ]
    },
    {
      "cell_type": "markdown",
      "id": "9c05a999",
      "metadata": {
        "id": "9c05a999"
      },
      "source": [
        "[Encapsulation]\n",
        "\n",
        "1. 객체 = 데이터 + 행동\n",
        "    - 데이터(Data) : field, member, variable, attribute\n",
        "    - 행동(Behavior) : method, member function, operation\n",
        " \n",
        "2. 구현에 대한 책임을 위임할 수 있는 하나의 방법\n",
        "3. Visibility 옵션을 이용하여 진행\n",
        "    - private : method는 pubilc으로 하여, data를 private하게 관리함\n",
        "4. Python은 기본적으로 Visibility Option을 제공하지 않음\n",
        "\n",
        "\n",
        "[Inheritance]\n",
        "\n",
        "1. 기존의 Atrribute(member variable, methods 등)를 descendants에게 제공\n",
        "2. Superclass : ancestor(조상)의 역할 → generalize한 특성들을 가짐\n",
        "3. Subclass : 보다 specialized된 특성들을 가짐\n",
        "\n",
        "![image.png](attachment:image.png)\n",
        "출처 : https://www.whitman.edu/mathematics/java_tutorial/java/javaOO/subclasses.html"
      ]
    },
    {
      "cell_type": "code",
      "execution_count": null,
      "id": "7fa5a863",
      "metadata": {
        "id": "7fa5a863"
      },
      "outputs": [],
      "source": [
        "# Inheritance in Python\n",
        "\n",
        "class Father(object):\n",
        "    strHomeTown = \"Jeju\"\n",
        "    def __init__(self):\n",
        "        print(\"Father is created\")\n",
        "    def doFatherThing(self):\n",
        "        print(\"Father's action\")\n",
        "    def doRunning(self):\n",
        "        print(\"Slow\")\n",
        "        \n",
        "class Mother(object):\n",
        "    strHomeTown = \"Seoul\"\n",
        "    def __init__(self):\n",
        "        print(\"Mother is created\")\n",
        "    def doMotherThing(self):\n",
        "        print(\"Mother's action\")\n",
        "\n",
        "class Child(Father, Mother):\n",
        "    strName = \"Moon\"\n",
        "    def __int__(self):\n",
        "        super(Child, self).__init__()\n",
        "        print(\"Child is created\")\n",
        "    def doRunning(self):\n",
        "        print(\"Fast\")\n"
      ]
    },
    {
      "cell_type": "code",
      "execution_count": null,
      "id": "e2f35d09",
      "metadata": {
        "id": "e2f35d09",
        "outputId": "9d0a0ee4-e92a-4963-96ef-77fb91263377"
      },
      "outputs": [
        {
          "name": "stdout",
          "output_type": "stream",
          "text": [
            "Father is created\n"
          ]
        }
      ],
      "source": [
        "me = Child()"
      ]
    },
    {
      "cell_type": "code",
      "execution_count": null,
      "id": "cf9cdbea",
      "metadata": {
        "scrolled": true,
        "id": "cf9cdbea",
        "outputId": "1467aef1-5890-4c56-a3f7-78d98370e511"
      },
      "outputs": [
        {
          "name": "stdout",
          "output_type": "stream",
          "text": [
            "Father's action\n"
          ]
        }
      ],
      "source": [
        "me.doFatherThing()"
      ]
    },
    {
      "cell_type": "code",
      "execution_count": null,
      "id": "947e36d0",
      "metadata": {
        "id": "947e36d0",
        "outputId": "20b93348-6b45-492d-a3af-c693edaab8b2"
      },
      "outputs": [
        {
          "name": "stdout",
          "output_type": "stream",
          "text": [
            "Mother's action\n"
          ]
        }
      ],
      "source": [
        "me.doMotherThing()"
      ]
    },
    {
      "cell_type": "code",
      "execution_count": null,
      "id": "41fceb82",
      "metadata": {
        "id": "41fceb82",
        "outputId": "39ff145c-dc8f-4e9d-db28-1b21ef80ab3a"
      },
      "outputs": [
        {
          "name": "stdout",
          "output_type": "stream",
          "text": [
            "Fast\n"
          ]
        }
      ],
      "source": [
        "me.doRunning()"
      ]
    },
    {
      "cell_type": "code",
      "execution_count": null,
      "id": "b763e836",
      "metadata": {
        "id": "b763e836",
        "outputId": "6d5c39e5-cd73-48bc-942b-3c4ada3b53ff"
      },
      "outputs": [
        {
          "data": {
            "text/plain": [
              "'Moon'"
            ]
          },
          "execution_count": 11,
          "metadata": {},
          "output_type": "execute_result"
        }
      ],
      "source": [
        "me.strName"
      ]
    },
    {
      "cell_type": "code",
      "execution_count": null,
      "id": "7ad67fa5",
      "metadata": {
        "id": "7ad67fa5",
        "outputId": "a1b3882e-1c69-47f6-887e-5f114cea8aa2"
      },
      "outputs": [
        {
          "data": {
            "text/plain": [
              "'Jeju'"
            ]
          },
          "execution_count": 12,
          "metadata": {},
          "output_type": "execute_result"
        }
      ],
      "source": [
        "me.strHomeTown"
      ]
    },
    {
      "cell_type": "markdown",
      "id": "7a209d94",
      "metadata": {
        "id": "7a209d94"
      },
      "source": [
        "# 04. Self and Super"
      ]
    },
    {
      "cell_type": "markdown",
      "id": "552c1f56",
      "metadata": {
        "id": "552c1f56"
      },
      "source": [
        "[self]\n",
        "\n",
        "1. 자기자신을 지칭하는 객체\n",
        " \n",
        "[super]\n",
        "\n",
        "1. 자신이 상속받고 있는 class"
      ]
    },
    {
      "cell_type": "code",
      "execution_count": null,
      "id": "1987a6e2",
      "metadata": {
        "id": "1987a6e2"
      },
      "outputs": [],
      "source": [
        "class Child(Father, Mother):\n",
        "    strName = \"Moon\"\n",
        "    def __inti(self, paramName, paramHome):\n",
        "        super(Child, self).__init__(paramHome)\n",
        "        self.strName = paramName\n",
        "        print(\"Child is created\")"
      ]
    },
    {
      "cell_type": "markdown",
      "id": "11be5ba5",
      "metadata": {
        "id": "11be5ba5"
      },
      "source": [
        "# 05. Polymorphism"
      ]
    },
    {
      "cell_type": "markdown",
      "id": "cf7ce018",
      "metadata": {
        "id": "cf7ce018"
      },
      "source": [
        "→ 어원 = Poly : 다양한 / morphism : 모양\n",
        "\n",
        "- 유사한 모습을 하고 있지만, 완전히 다른 행동을 하는 것을 지칭함"
      ]
    },
    {
      "cell_type": "markdown",
      "id": "abed2e49",
      "metadata": {
        "id": "abed2e49"
      },
      "source": [
        "1. Method Overriding : 기존의 method를 무시하고 새로운 method를 차용함\n",
        "2. Method Overloading : method의 name은 동일하지만 parameter가 달라서 여러가자의 다른 형태로 실행될 수 있음"
      ]
    },
    {
      "cell_type": "code",
      "execution_count": null,
      "id": "c40972e1",
      "metadata": {
        "id": "c40972e1"
      },
      "outputs": [],
      "source": [
        "class Hotel1 :\n",
        "    strAddress = \"Daejeon\"\n",
        "    def openDoor(self):\n",
        "        print(\"Door opened\")\n",
        "    def checkIn(self):\n",
        "        print(\"Someone checks in for 1 day\")\n",
        "    def checkIn(self, days):\n",
        "        print(\"Someone checks in for\", days, \"days\")"
      ]
    },
    {
      "cell_type": "code",
      "execution_count": null,
      "id": "3775fc3e",
      "metadata": {
        "id": "3775fc3e"
      },
      "outputs": [],
      "source": [
        "#Overriding\n",
        "class Hotel2:\n",
        "    def openDoor(self):\n",
        "        print(\"Bellboy opens a door\")\n",
        "    def checkIn(self, days=1):  #Overloading\n",
        "        print(\"Someone checks in for\", days, \"days\")"
      ]
    },
    {
      "cell_type": "code",
      "execution_count": null,
      "id": "e2b1c4f6",
      "metadata": {
        "id": "e2b1c4f6"
      },
      "outputs": [],
      "source": [
        "lotteHotel = Hotel2()"
      ]
    },
    {
      "cell_type": "code",
      "execution_count": null,
      "id": "0d124ece",
      "metadata": {
        "id": "0d124ece",
        "outputId": "2b90bbcf-6779-4d24-f1f1-7dc3d78c32c5"
      },
      "outputs": [
        {
          "name": "stdout",
          "output_type": "stream",
          "text": [
            "Someone checks in for 2 days\n"
          ]
        }
      ],
      "source": [
        "lotteHotel.checkIn(2)"
      ]
    },
    {
      "cell_type": "markdown",
      "id": "3b228302",
      "metadata": {
        "id": "3b228302"
      },
      "source": [
        "[Abstract Class]\n",
        "\n",
        "- abstract method를 보유하고 있는 Class\n",
        "- 미완성의 class이기 때문에 instance를 시킬 수는 없음"
      ]
    },
    {
      "cell_type": "code",
      "execution_count": null,
      "id": "1a259c02",
      "metadata": {
        "id": "1a259c02"
      },
      "outputs": [],
      "source": [
        "from abc import ABC, abstractclassmethod\n",
        "\n",
        "class Room(ABC):\n",
        "    @abstractclassmethod\n",
        "    def openDoor(self):\n",
        "        pass\n",
        "    @abstractclassmethod\n",
        "    def openWindow(self):\n",
        "        pass\n",
        "    \n",
        "class BedRoom(Room):\n",
        "    def openDoor(self):\n",
        "        print(\"Open bedroom door\")\n",
        "    def openWindow(self):\n",
        "        print(\"Open bedroom window\")\n",
        "        \n",
        "class Lobby(Room):\n",
        "    def openDoor(self):\n",
        "        print(\"Open lobby door\")"
      ]
    },
    {
      "cell_type": "code",
      "execution_count": null,
      "id": "9783cd0b",
      "metadata": {
        "id": "9783cd0b",
        "outputId": "30a40ea9-e2cf-4e23-95c6-5d1ba4efc4bb"
      },
      "outputs": [
        {
          "name": "stdout",
          "output_type": "stream",
          "text": [
            "True True\n"
          ]
        }
      ],
      "source": [
        "room1 = BedRoom()\n",
        "print(issubclass(BedRoom, Room), isinstance(room1, Room))"
      ]
    },
    {
      "cell_type": "code",
      "execution_count": null,
      "id": "1899e046",
      "metadata": {
        "id": "1899e046",
        "outputId": "ce77aacf-fef6-4dc0-a769-86c1d74118e1"
      },
      "outputs": [
        {
          "ename": "TypeError",
          "evalue": "Can't instantiate abstract class Lobby with abstract method openWindow",
          "output_type": "error",
          "traceback": [
            "\u001b[1;31m---------------------------------------------------------------------------\u001b[0m",
            "\u001b[1;31mTypeError\u001b[0m                                 Traceback (most recent call last)",
            "Input \u001b[1;32mIn [12]\u001b[0m, in \u001b[0;36m<cell line: 1>\u001b[1;34m()\u001b[0m\n\u001b[1;32m----> 1\u001b[0m lobby1 \u001b[38;5;241m=\u001b[39m \u001b[43mLobby\u001b[49m\u001b[43m(\u001b[49m\u001b[43m)\u001b[49m\n\u001b[0;32m      2\u001b[0m \u001b[38;5;28mprint\u001b[39m(\u001b[38;5;28missubclass\u001b[39m(Lobby, Room), \u001b[38;5;28misinstance\u001b[39m(lobby1, Room))\n",
            "\u001b[1;31mTypeError\u001b[0m: Can't instantiate abstract class Lobby with abstract method openWindow"
          ]
        }
      ],
      "source": [
        "#완전히 구현되지 않은 instance를 구현하고자 했을 시, 오류 발생 (:abstract method가 있습니다)\n",
        "#openWindow까지 추가되어야 완전히 구현되었다고 볼 수 있음\n",
        "\n",
        "lobby1 = Lobby()\n",
        "print(issubclass(Lobby, Room), isinstance(lobby1, Room))"
      ]
    },
    {
      "cell_type": "markdown",
      "id": "3836b8e1",
      "metadata": {
        "id": "3836b8e1"
      },
      "source": [
        "[Object]\n",
        "\n",
        "1. object : 모든 Pythod의 class들은 object의 하위라고 볼 수 있음\n",
        "2. hidden method of object #override가능\n",
        "    - __init__ : constructor \n",
        "    - __del__ : deconstructor \n",
        "    - __eq__ : equality\n",
        "    - __cmp__ : comparision\n",
        "    - __add__ : string 연산\n",
        "    "
      ]
    },
    {
      "cell_type": "markdown",
      "id": "2499fedf",
      "metadata": {
        "id": "2499fedf"
      },
      "source": [
        "# 06. Structure and Relationship\n",
        "\n",
        "![image.png](attachment:image.png)\n",
        "    [출처] https://javarevisited.blogspot.com/2014/02/ifference-between-association-vs-composition-vs-aggregation.html#axzz7fVpelzdB\n"
      ]
    },
    {
      "cell_type": "markdown",
      "id": "c00cdf26",
      "metadata": {
        "id": "c00cdf26"
      },
      "source": [
        "1. Generalization\n",
        " - 근본적으로 Inheritance relationship을 의미함 (superclass / subclass)\n",
        " - is-a relationship\n",
        " "
      ]
    }
  ],
  "metadata": {
    "kernelspec": {
      "display_name": "Python 3 (ipykernel)",
      "language": "python",
      "name": "python3"
    },
    "language_info": {
      "codemirror_mode": {
        "name": "ipython",
        "version": 3
      },
      "file_extension": ".py",
      "mimetype": "text/x-python",
      "name": "python",
      "nbconvert_exporter": "python",
      "pygments_lexer": "ipython3",
      "version": "3.9.13"
    },
    "colab": {
      "provenance": [],
      "include_colab_link": true
    }
  },
  "nbformat": 4,
  "nbformat_minor": 5
}
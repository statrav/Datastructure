{
  "cells": [
    {
      "cell_type": "markdown",
      "metadata": {
        "id": "view-in-github",
        "colab_type": "text"
      },
      "source": [
        "<a href=\"https://colab.research.google.com/github/statrav/pages/blob/main/Ch1_3_Linked_List%2C_Stack%2C_and_Queue.ipynb\" target=\"_parent\"><img src=\"https://colab.research.google.com/assets/colab-badge.svg\" alt=\"Open In Colab\"/></a>"
      ]
    },
    {
      "cell_type": "markdown",
      "id": "84d1a0b3",
      "metadata": {
        "id": "84d1a0b3"
      },
      "source": [
        "# 01. Array for List"
      ]
    },
    {
      "cell_type": "markdown",
      "id": "78f476b1",
      "metadata": {
        "id": "78f476b1"
      },
      "source": [
        "[List]\n",
        "\n",
        "1. List의 필요성 : 구조화된 형태를 사용했을 때, 효율적인 저장공간을 확보하고 활용할 수 있음 (선형 구조)"
      ]
    },
    {
      "cell_type": "markdown",
      "id": "60e5ad15",
      "metadata": {
        "id": "60e5ad15"
      },
      "source": [
        "[ADT : Abstract Data Types]\n",
        "\n",
        "1. Data Structure\n",
        " - 데이터 저장 (생성 / 제거)\n",
        " - 데이터 검색\n",
        " \n",
        "2. ADT\n",
        " - 정의 : Data Structure의 다양한 행동(기능)들이 어떻게 구현되는 지 추상적으로 표현한 타입\n",
        " - 저장된 데이터 & 데이터를 활용하는 operations"
      ]
    },
    {
      "cell_type": "markdown",
      "id": "3b6b607e",
      "metadata": {
        "id": "3b6b607e"
      },
      "source": [
        "[Array]\n",
        "\n",
        "1. 동일한 data를 index를 활용하여 저장하거나 접근할 수 있는 방식\n",
        "   → Array는 index가 필요\n",
        "\n",
        "2. Array를 통해서 List를 생성\n",
        "\n",
        "3. index를 navigate하여 element를 찾을 수 있음\n",
        "\n",
        "4. '?'라는 데이터가 List x에 있는지 없는지를 알기 위해서는 len(x)만큼을 비교해보아야 함 (List의 길이를 아는 법 : len(x))"
      ]
    },
    {
      "cell_type": "code",
      "execution_count": null,
      "id": "d49904b2",
      "metadata": {
        "id": "d49904b2"
      },
      "outputs": [],
      "source": [
        "# Insert Example\n",
        "\n",
        "A = ['a', 'b', 'c', 'e', 'f', 'g']\n",
        "B = list(range(7))\n",
        "\n",
        "InsertIdx = 3\n",
        "Correct = 'd'\n",
        "\n",
        "for idx in range(0,InsertIdx):\n",
        "    B[idx] = A[idx]"
      ]
    },
    {
      "cell_type": "code",
      "execution_count": null,
      "id": "75509556",
      "metadata": {
        "id": "75509556",
        "outputId": "c463bb89-ed30-40d3-a5df-570fd883b4f8"
      },
      "outputs": [
        {
          "data": {
            "text/plain": [
              "['a', 'b', 'c', 3, 4, 5, 6]"
            ]
          },
          "execution_count": 25,
          "metadata": {},
          "output_type": "execute_result"
        }
      ],
      "source": [
        "B"
      ]
    },
    {
      "cell_type": "code",
      "execution_count": null,
      "id": "beb617e9",
      "metadata": {
        "id": "beb617e9"
      },
      "outputs": [],
      "source": [
        "B[InsertIdx] = Correct\n",
        "for idx in range(InsertIdx, len(A)):\n",
        "    B[idx+1] = A[idx]"
      ]
    },
    {
      "cell_type": "code",
      "execution_count": null,
      "id": "948bebc5",
      "metadata": {
        "id": "948bebc5",
        "outputId": "1aee0cb2-f3c5-4e30-8fdd-b30804af3ed2"
      },
      "outputs": [
        {
          "data": {
            "text/plain": [
              "['a', 'b', 'c', 'd', 'e', 'f', 'g']"
            ]
          },
          "execution_count": 27,
          "metadata": {},
          "output_type": "execute_result"
        }
      ],
      "source": [
        "B"
      ]
    },
    {
      "cell_type": "code",
      "execution_count": null,
      "id": "e252669f",
      "metadata": {
        "id": "e252669f"
      },
      "outputs": [],
      "source": [
        "#Delete Example\n",
        "\n",
        "A = ['a', 'b', 'c', 'd', 'e', 'f']\n",
        "B = list(range(5))\n",
        "\n",
        "DeleteIdx = 2\n",
        "\n",
        "for idx in range(0, DeleteIdx):\n",
        "    B[idx] = A[idx]\n"
      ]
    },
    {
      "cell_type": "code",
      "execution_count": null,
      "id": "7fdf1312",
      "metadata": {
        "id": "7fdf1312",
        "outputId": "258cbb58-f987-4a38-c5fd-58ce39383a3f"
      },
      "outputs": [
        {
          "data": {
            "text/plain": [
              "['a', 'b', 2, 3, 4]"
            ]
          },
          "execution_count": 15,
          "metadata": {},
          "output_type": "execute_result"
        }
      ],
      "source": [
        "B"
      ]
    },
    {
      "cell_type": "code",
      "execution_count": null,
      "id": "e57cd8e1",
      "metadata": {
        "id": "e57cd8e1"
      },
      "outputs": [],
      "source": [
        "for idx in range(DeleteIdx+1, len(A)):\n",
        "    B[idx-1] = A[idx]"
      ]
    },
    {
      "cell_type": "code",
      "execution_count": null,
      "id": "49873e77",
      "metadata": {
        "id": "49873e77",
        "outputId": "05ddc1ce-e025-408b-d911-7de21992228d"
      },
      "outputs": [
        {
          "data": {
            "text/plain": [
              "['a', 'b', 'd', 'e', 'f']"
            ]
          },
          "execution_count": 17,
          "metadata": {},
          "output_type": "execute_result"
        }
      ],
      "source": [
        "B"
      ]
    },
    {
      "cell_type": "markdown",
      "id": "03997662",
      "metadata": {
        "id": "03997662"
      },
      "source": [
        "[Array의 문제점들]\n",
        "\n",
        "1. Array 내에 원하는 위치에 원하는 값을 더하거나 빼기 위해서는 Array 전체를 건드려야 함\n",
        "→ 이 문제를 Linked List로 해결 가능"
      ]
    },
    {
      "cell_type": "markdown",
      "id": "35cefa45",
      "metadata": {
        "id": "35cefa45"
      },
      "source": [
        "# 02. Linked List"
      ]
    },
    {
      "cell_type": "markdown",
      "id": "fa19b049",
      "metadata": {
        "id": "fa19b049"
      },
      "source": [
        "[Singly Linked List]\n",
        "\n",
        "- 구성 : nodes, references\n",
        "- node\n",
        " (1) 다음 node에 대한 reference를 저장하는 변수\n",
        " (2) 어떠한 값이 저장될 것인지에 대한 reference를 저장하는 변수\n",
        " (3) special node : Head and Tail"
      ]
    },
    {
      "cell_type": "markdown",
      "id": "037e8cc0",
      "metadata": {
        "id": "037e8cc0"
      },
      "source": [
        "![image.png](data:image/png;base64,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)"
      ]
    },
    {
      "cell_type": "code",
      "execution_count": null,
      "id": "67616751",
      "metadata": {
        "id": "67616751"
      },
      "outputs": [],
      "source": [
        "class Node:\n",
        "    nodeNext = None\n",
        "    nodePrey = ''\n",
        "    objValue = ''\n",
        "    binHead = False\n",
        "    binTail = False\n",
        "    \n",
        "    def __init__(self, objValue = '', nodeNext = None, binHead = False, binTail = False):\n",
        "        self.nodeNext = nodeNext\n",
        "        self.objValue = objValue\n",
        "        self.binHead = binHead\n",
        "        self.binTail = binTail\n",
        "    \n",
        "    def getValue(self):\n",
        "        return self.objValue\n",
        "\n",
        "    def setValue(self, objValue):\n",
        "        self.objValue = objValue\n",
        "\n",
        "    def getNext(self):\n",
        "        return self.nodeNext\n",
        "\n",
        "    def setNext(self, nodeNext):\n",
        "        self.nodeNext = nodeNext\n",
        "\n",
        "    def isHead(self):\n",
        "        return self.binHead\n",
        "\n",
        "    def isTail(self):\n",
        "        return self.binTail\n"
      ]
    },
    {
      "cell_type": "code",
      "execution_count": null,
      "id": "aea41a8a",
      "metadata": {
        "id": "aea41a8a"
      },
      "outputs": [],
      "source": [
        "node1 = Node(objValue = 'a')\n",
        "nodeTail = Node(binTail = True)\n",
        "nodeHead = Node(binHead = True, nodeNext = node1)"
      ]
    },
    {
      "cell_type": "markdown",
      "id": "55e7c4e1",
      "metadata": {
        "id": "55e7c4e1"
      },
      "source": [
        "#### Insert Example\n",
        "\n",
        "- NodePrev.Next = NodeNew\n",
        "- NodeNew.Next = NodeNext\n",
        "![image.png](data:image/png;base64,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)"
      ]
    },
    {
      "cell_type": "markdown",
      "id": "17496602",
      "metadata": {
        "id": "17496602"
      },
      "source": [
        "#### Delete Example\n",
        "\n",
        "- NodeRemove.Next = NodeNext\n",
        "- NodeNext = NodePrev.Next.Next\n",
        "\n",
        "![image.png](data:image/png;base64,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)"
      ]
    },
    {
      "cell_type": "code",
      "execution_count": null,
      "id": "80e52301",
      "metadata": {
        "id": "80e52301"
      },
      "outputs": [],
      "source": [
        "class SinglyLindkedList:\n",
        "    nodeHead = ''\n",
        "    nodeTail =''\n",
        "    size = 0\n",
        "    \n",
        "    def __init__(self):\n",
        "        self.nodeTail = Node(binTail=True)\n",
        "        self.nodeHead = Node(binHead = True, nodeNext=self.nodeTail)\n",
        "        \n",
        "    def insertAt(self, objInsert, idxInsert):\n",
        "        nodeNew = Node(objValue = objInsert)\n",
        "        nodePrev = self.get(idxInsert - 1)\n",
        "        nodeNext = nodePrev.getNext()\n",
        "        nodePrev.setNext(nodeNew)\n",
        "        nodeNew.setNext(nodeNext)\n",
        "        self.size = self.size + 1\n",
        "        \n",
        "    def removeAt(self, idxRemove):\n",
        "        nodePrev = self.get(idxRemove - 1)\n",
        "        nodeRemove = nodePrev.getNext()\n",
        "        nodeNext = nodeRemove.getNext()\n",
        "        nodePrev.setNext(nodeNext)\n",
        "        self.size = self.size - 1\n",
        "        \n",
        "    def get(self, idxRetrieve):\n",
        "        nodeReturn = self.nodeHead\n",
        "        for itr in range(idxRetrieve + 1):\n",
        "            nodeReturn = nodeReturn.getNext()\n",
        "        return nodeReturn\n",
        "    \n",
        "    def printStatus(self):\n",
        "        nodeCurrent = self.nodeHead\n",
        "        while nodeCurrent.getNext().isTail() == False:\n",
        "            nodeCurrent = nodeCurrent.getNext()\n",
        "            print(nodeCurrent.getValue(), end= \" \")\n",
        "        print(\"\")\n",
        "        \n",
        "        def getSize(self):\n",
        "            return self.size"
      ]
    },
    {
      "cell_type": "code",
      "execution_count": null,
      "id": "a9dd3caa",
      "metadata": {
        "id": "a9dd3caa"
      },
      "outputs": [],
      "source": [
        "list1 = SinglyLindkedList()"
      ]
    },
    {
      "cell_type": "code",
      "execution_count": null,
      "id": "9d5f8b43",
      "metadata": {
        "id": "9d5f8b43",
        "outputId": "f692db57-ac06-4653-dee6-deb4d6db2c3a"
      },
      "outputs": [
        {
          "data": {
            "text/plain": [
              "<__main__.SinglyLindkedList at 0x1512900b970>"
            ]
          },
          "execution_count": 62,
          "metadata": {},
          "output_type": "execute_result"
        }
      ],
      "source": [
        "list1"
      ]
    },
    {
      "cell_type": "code",
      "execution_count": null,
      "id": "230e2a84",
      "metadata": {
        "id": "230e2a84",
        "outputId": "668d8b18-a5fe-44f5-c002-b44cdeabb600"
      },
      "outputs": [
        {
          "name": "stdout",
          "output_type": "stream",
          "text": [
            "a b c \n"
          ]
        }
      ],
      "source": [
        "list1.insertAt('a',0)\n",
        "list1.insertAt('b',1)\n",
        "list1.insertAt('c',2)\n",
        "\n",
        "list1.printStatus()"
      ]
    },
    {
      "cell_type": "code",
      "execution_count": null,
      "id": "0b6b9beb",
      "metadata": {
        "id": "0b6b9beb",
        "outputId": "7a9564a3-184a-4fa3-d96c-d76650965824"
      },
      "outputs": [
        {
          "name": "stdout",
          "output_type": "stream",
          "text": [
            "a c \n"
          ]
        }
      ],
      "source": [
        "list1.removeAt(1)\n",
        "\n",
        "list1.printStatus()"
      ]
    },
    {
      "cell_type": "markdown",
      "id": "f673b682",
      "metadata": {
        "id": "f673b682"
      },
      "source": [
        "# 03. Stack"
      ]
    },
    {
      "cell_type": "markdown",
      "id": "8fb57ec7",
      "metadata": {
        "id": "8fb57ec7"
      },
      "source": [
        "[Stack의 구조]\n",
        "\n",
        "- 선형으로 연결되어 있으며, 빠져나가는 구멍이 1개인 Stack (출구가 1개임)\n",
        "- 오로지 첫 번째 node에 대해서만 관여를 함 (Top)\n",
        "- Top을 통해서만 data를 insert와 remove가 이루어짐\n",
        "- Last-In-First-Out (LIFO) 매커니즘 : 가장 먼저 들어간 것이 제일 나중에 나오고, 가장 늦게 들어간 것이 제일 먼저 나옴\n"
      ]
    },
    {
      "cell_type": "markdown",
      "id": "33142e50",
      "metadata": {
        "id": "33142e50"
      },
      "source": [
        "[Stack Operation]\n",
        "\n",
        "- list : search, insert, remove\n",
        "- stack : top만 insert, remove → push, pop\n",
        "    - push : linked list의 첫번째에 instance를 insert\n",
        "    - pop : linked list의 첫번째 instance를 remove"
      ]
    },
    {
      "cell_type": "code",
      "execution_count": null,
      "id": "05fb8841",
      "metadata": {
        "id": "05fb8841"
      },
      "outputs": [],
      "source": [
        "class Stack(object):\n",
        "    lstInstance = SinglyLindkedList()\n",
        "    def pop(self):\n",
        "        return self.lstInstance.removeAt(0)\n",
        "    def push(self, value):\n",
        "        self.lstInstance.insertAt(value, 0)"
      ]
    },
    {
      "cell_type": "markdown",
      "id": "c3dacfdf",
      "metadata": {
        "id": "c3dacfdf"
      },
      "source": [
        "# 04. Queue"
      ]
    },
    {
      "cell_type": "markdown",
      "id": "1387b391",
      "metadata": {
        "id": "1387b391"
      },
      "source": [
        "[Queue의 구조]\n",
        "\n",
        "- first instance : the front instance\n",
        "- last instance : the rear instance\n",
        "- 중간 순서에서는 insert나 remove가 될 수 없음\n",
        "- First-In-First-Out (FIFO) : 선입선출법 (먼저 들어간 것이 먼저 나옴)"
      ]
    },
    {
      "cell_type": "markdown",
      "id": "abe4a7cc",
      "metadata": {
        "id": "abe4a7cc"
      },
      "source": [
        "[Queue Operation]\n",
        "\n",
        "- list : search, insert, remove\n",
        "- stack : top만 insert, remove → push, pop\n",
        "    - push : linked list의 첫번째에 instance를 insert\n",
        "    - pop : linked list의 첫번째 instance를 remove\n",
        "- queue : 첫번째가 remove, 마지막이 insert\n",
        "    - Enqueue : 마지막 위치에 element를 insert\n",
        "    - Dequeue : 첫 번째 위치에 element를 remove함"
      ]
    },
    {
      "cell_type": "code",
      "execution_count": null,
      "id": "cf810b91",
      "metadata": {
        "id": "cf810b91"
      },
      "outputs": [],
      "source": [
        "class Queue(object):\n",
        "    IstInstance = SinglyLindkedList()\n",
        "    def dequeue(self):\n",
        "        return self.IstInstance.removeAt(0)\n",
        "    def enqueue(self, value):\n",
        "        self.IstInstance.insertAt(value, self.IstInstance.getSize())"
      ]
    }
  ],
  "metadata": {
    "kernelspec": {
      "display_name": "Python 3 (ipykernel)",
      "language": "python",
      "name": "python3"
    },
    "language_info": {
      "codemirror_mode": {
        "name": "ipython",
        "version": 3
      },
      "file_extension": ".py",
      "mimetype": "text/x-python",
      "name": "python",
      "nbconvert_exporter": "python",
      "pygments_lexer": "ipython3",
      "version": "3.9.13"
    },
    "colab": {
      "provenance": [],
      "include_colab_link": true
    }
  },
  "nbformat": 4,
  "nbformat_minor": 5
}
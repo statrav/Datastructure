{
 "cells": [
  {
   "cell_type": "markdown",
   "id": "887ba72c",
   "metadata": {},
   "source": [
    "# 01. Sorting\n",
    "\n",
    "[O(N^2) Sorting]\n",
    "\n",
    "- 2개의 index를 비교하면서 순차적인 대조를 진행\n",
    "- O(N^2) : Odd of N squares\n",
    "- 시간이 오래 걸리지만, 쉽게 구현할 수 있음\n",
    "\n",
    "[Selection sort Algorithm]"
   ]
  },
  {
   "cell_type": "code",
   "execution_count": null,
   "id": "208552d4",
   "metadata": {},
   "outputs": [],
   "source": [
    "import random\n",
    "\n",
    "N = 10\n",
    "IstNumbers = range(N)\n",
    "random.shuffle(lstNumber)"
   ]
  }
 ],
 "metadata": {
  "kernelspec": {
   "display_name": "Python 3 (ipykernel)",
   "language": "python",
   "name": "python3"
  },
  "language_info": {
   "codemirror_mode": {
    "name": "ipython",
    "version": 3
   },
   "file_extension": ".py",
   "mimetype": "text/x-python",
   "name": "python",
   "nbconvert_exporter": "python",
   "pygments_lexer": "ipython3",
   "version": "3.9.12"
  }
 },
 "nbformat": 4,
 "nbformat_minor": 5
}

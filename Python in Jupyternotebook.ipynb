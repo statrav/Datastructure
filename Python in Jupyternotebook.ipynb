{
 "cells": [
  {
   "cell_type": "markdown",
   "id": "254c8f99",
   "metadata": {},
   "source": [
    "# Ch1. Python Overview"
   ]
  },
  {
   "cell_type": "markdown",
   "id": "2bc38810",
   "metadata": {},
   "source": [
    "### 01. Hello World in Python"
   ]
  },
  {
   "cell_type": "markdown",
   "id": "0e28009d",
   "metadata": {},
   "source": [
    "(1) def(함수)를 사용한 Hello World 도출"
   ]
  },
  {
   "cell_type": "code",
   "execution_count": 1,
   "id": "cb7208bb",
   "metadata": {},
   "outputs": [],
   "source": [
    "def main():\n",
    "    print(\"Hello World!\")\n",
    "    print(\"This program computes the average of two scores.\")\n",
    "    \n",
    "    score1, score2 = input(\"Enter your two scores separated by a comma : \").split(\",\")\n",
    "    average = (int(score1) + int(score2)) / int(2)\n",
    "    \n",
    "    print(\"The average of your scores is \", average)"
   ]
  },
  {
   "cell_type": "code",
   "execution_count": 2,
   "id": "72a42bd8",
   "metadata": {},
   "outputs": [
    {
     "name": "stdout",
     "output_type": "stream",
     "text": [
      "Hello World!\n",
      "This program computes the average of two scores.\n",
      "Enter your two scores separated by a comma : 100, 95\n",
      "The average of your scores is  97.5\n"
     ]
    }
   ],
   "source": [
    "main()"
   ]
  },
  {
   "cell_type": "markdown",
   "id": "cd1044e8",
   "metadata": {},
   "source": [
    "(2) Class를 사용한 Hellow World 도출"
   ]
  },
  {
   "cell_type": "code",
   "execution_count": 3,
   "id": "145cd23c",
   "metadata": {},
   "outputs": [],
   "source": [
    "class HelloWorld:\n",
    "    def __int__(self):\n",
    "        print(\"Hello World! Just one more time!\")\n",
    "    def __del__(self):\n",
    "        print(\"Goodbye!\")\n",
    "    def performAverage(self, val1, val2):\n",
    "        average = (int(val1)+int(val2))/int(2)\n",
    "        print(\"The average of your scores is \", average)\n",
    "\n",
    "def main():\n",
    "    world = HelloWorld()\n",
    "    score1, score2 = input(\"Enter your two scores separated by a comma : \").split(\",\")\n",
    "    world.performAverage(score1, score2)"
   ]
  },
  {
   "cell_type": "code",
   "execution_count": 4,
   "id": "86da87ab",
   "metadata": {},
   "outputs": [
    {
     "name": "stdout",
     "output_type": "stream",
     "text": [
      "Enter your two scores separated by a comma : 100,95\n",
      "The average of your scores is  97.5\n",
      "Goodbye!\n"
     ]
    }
   ],
   "source": [
    "main()"
   ]
  },
  {
   "cell_type": "markdown",
   "id": "aa59fe72",
   "metadata": {},
   "source": [
    "### 02. Variable Statement and Operators"
   ]
  },
  {
   "cell_type": "markdown",
   "id": "8a5105cc",
   "metadata": {},
   "source": [
    "(1) 복소수 표현방법 : complex"
   ]
  },
  {
   "cell_type": "code",
   "execution_count": 9,
   "id": "2a63366b",
   "metadata": {},
   "outputs": [],
   "source": [
    "def main():\n",
    "    numYearBase10 = 2019\n",
    "    numYearBase8 = 0o3743\n",
    "    numYearBase16 = 0x7E3\n",
    "\n",
    "    print(\"Year by base 10: %d, by base 8: %d, by base 16: %d\" %(numYearBase10, numYearBase8, numYearBase16))\n",
    "    #'%d'의 경우 그 자리에 데이터를 끼워넣게끔 함 (데이터 순서대로 삽입)\n",
    "\n",
    "    numComplex1 = complex(3,4)  #복소수 표현방법1\n",
    "    numComplex2 = 4+3j  #복소수 표현방법2\n",
    "\n",
    "    print(\"Complex value : \", numComplex1)\n",
    "    print(\"Absoulte value : \", abs(numComplex2))  #절댓값 #복소수의 경우 크기를 반환함\n",
    "    print(\"Real value\", numComplex2.real)  #실수부\n",
    "    print(\"Image value\", numComplex2.imag)  #허수부"
   ]
  },
  {
   "cell_type": "code",
   "execution_count": 10,
   "id": "72d9c9a7",
   "metadata": {},
   "outputs": [
    {
     "name": "stdout",
     "output_type": "stream",
     "text": [
      "Year by base 10: 2019, by base 8: 2019, by base 16: 2019\n",
      "Complex value :  (3+4j)\n",
      "Absoulte value :  5.0\n",
      "Real value 4.0\n",
      "Image value 3.0\n"
     ]
    }
   ],
   "source": [
    "main()"
   ]
  },
  {
   "cell_type": "markdown",
   "id": "bac94ed6",
   "metadata": {},
   "source": [
    "(2) 기본 연산법"
   ]
  },
  {
   "attachments": {
    "image.png": {
     "image/png": "[encoded data removed]"
    }
   },
   "cell_type": "markdown",
   "id": "0da2bbc7",
   "metadata": {},
   "source": [
    "![image.png](attachment:image.png)"
   ]
  },
  {
   "cell_type": "code",
   "execution_count": 11,
   "id": "476347fd",
   "metadata": {},
   "outputs": [],
   "source": [
    "def main():\n",
    "    numTest1 = 10\n",
    "    numTest2 = 3.0\n",
    "    numPlus = numTest1 + numTest2\n",
    "    numMinus = numTest1 - numTest2\n",
    "    numMultiply = numTest1 * numTest2\n",
    "    numDivide = numTest1 / numTest2\n",
    "    numModula = numTest1 % numTest2  #나머지\n",
    "    print(\"%d, %d, %d, %f, %d\" %(numPlus, numMinus, numMultiply, numDivide, numModula))  # %f : 소수점까지 표현\n",
    "    print(numTest1 == numTest2)  #같다\n",
    "    print(numTest1 != numTest2)  #다르다\n",
    "    print(type(numTest1), numTest1)"
   ]
  },
  {
   "cell_type": "code",
   "execution_count": 12,
   "id": "6407c751",
   "metadata": {},
   "outputs": [
    {
     "name": "stdout",
     "output_type": "stream",
     "text": [
      "13, 7, 30, 3.333333, 1\n",
      "False\n",
      "True\n",
      "<class 'int'> 10\n"
     ]
    }
   ],
   "source": [
    "main()"
   ]
  },
  {
   "cell_type": "markdown",
   "id": "a802c205",
   "metadata": {},
   "source": [
    "(3) String : 문자 데이터 타입"
   ]
  },
  {
   "cell_type": "code",
   "execution_count": 89,
   "id": "7aae1119",
   "metadata": {},
   "outputs": [],
   "source": [
    "strTest = 'Hello World! ISE'"
   ]
  },
  {
   "cell_type": "code",
   "execution_count": 91,
   "id": "59e5566e",
   "metadata": {},
   "outputs": [
    {
     "name": "stdout",
     "output_type": "stream",
     "text": [
      "H E Hel H\n"
     ]
    }
   ],
   "source": [
    "# 문자열 위치\n",
    "print(strTest[0], strTest[-1], strTest[0:3], strTest[0::-1])"
   ]
  },
  {
   "cell_type": "code",
   "execution_count": 92,
   "id": "15bd664b",
   "metadata": {},
   "outputs": [
    {
     "name": "stdout",
     "output_type": "stream",
     "text": [
      "True False\n"
     ]
    }
   ],
   "source": [
    "# 멤버 연산 : in & not in 연산자\n",
    "print(\"ISE\" in strTest, \"ISE\" not in strTest)"
   ]
  },
  {
   "cell_type": "code",
   "execution_count": 93,
   "id": "ca735cd2",
   "metadata": {},
   "outputs": [
    {
     "name": "stdout",
     "output_type": "stream",
     "text": [
      "Hello World! ISE Dept\n"
     ]
    }
   ],
   "source": [
    "# 문자열에서의 +\n",
    "print(strTest+\" Dept\")"
   ]
  },
  {
   "cell_type": "markdown",
   "id": "083e99a8",
   "metadata": {},
   "source": [
    "(4) List : 순서가 있는 수정이 가능한 데이터 타입"
   ]
  },
  {
   "cell_type": "code",
   "execution_count": 82,
   "id": "c3431703",
   "metadata": {},
   "outputs": [
    {
     "name": "stdout",
     "output_type": "stream",
     "text": [
      "4 [1, 2] [4, 3, 2, 1]\n"
     ]
    }
   ],
   "source": [
    "# 값, 범위\n",
    "lstTest = [1, 2, 3, 4]\n",
    "print(lstTest[3], lstTest[0:2], lstTest[::-1])"
   ]
  },
  {
   "cell_type": "code",
   "execution_count": 83,
   "id": "5b1d615c",
   "metadata": {},
   "outputs": [
    {
     "name": "stdout",
     "output_type": "stream",
     "text": [
      "[1, 2, 3, 4, 1, 2, 3, 4]\n",
      "[1, 2, 3, 4, 1, 2, 3, 4, 1, 2, 3, 4]\n"
     ]
    }
   ],
   "source": [
    "# List 더하기\n",
    "print(lstTest+lstTest)\n",
    "print(lstTest*3)"
   ]
  },
  {
   "cell_type": "code",
   "execution_count": 84,
   "id": "77a68b32",
   "metadata": {},
   "outputs": [
    {
     "name": "stdout",
     "output_type": "stream",
     "text": [
      "False True\n"
     ]
    }
   ],
   "source": [
    "# 멤버 연산 : in & not in 연산자\n",
    "print(5 in lstTest, 5 not in lstTest)"
   ]
  },
  {
   "cell_type": "code",
   "execution_count": 85,
   "id": "54efa4d6",
   "metadata": {},
   "outputs": [
    {
     "name": "stdout",
     "output_type": "stream",
     "text": [
      "[1, 2, 3, 4, 'num']\n"
     ]
    }
   ],
   "source": [
    "# append : list의 가장 오른쪽에 값을 추가\n",
    "lstTest.append('num')\n",
    "print(lstTest)"
   ]
  },
  {
   "cell_type": "code",
   "execution_count": 86,
   "id": "f4a6f6c8",
   "metadata": {},
   "outputs": [
    {
     "name": "stdout",
     "output_type": "stream",
     "text": [
      "[2, 3, 4, 'num']\n"
     ]
    }
   ],
   "source": [
    "# list 위치로 인자 삭제\n",
    "del lstTest[0]\n",
    "print(lstTest)"
   ]
  },
  {
   "cell_type": "code",
   "execution_count": 87,
   "id": "d7db1c5e",
   "metadata": {},
   "outputs": [
    {
     "name": "stdout",
     "output_type": "stream",
     "text": [
      "['num', 4, 3, 2]\n"
     ]
    }
   ],
   "source": [
    "# list 순서 뒤바꾸기\n",
    "lstTest.reverse()\n",
    "print(lstTest)"
   ]
  },
  {
   "cell_type": "code",
   "execution_count": 88,
   "id": "a2063417",
   "metadata": {},
   "outputs": [
    {
     "name": "stdout",
     "output_type": "stream",
     "text": [
      "['num', 4, 2]\n"
     ]
    }
   ],
   "source": [
    "# list 인자 삭제\n",
    "lstTest.remove(3)\n",
    "print(lstTest)"
   ]
  },
  {
   "cell_type": "markdown",
   "id": "2a00267e",
   "metadata": {},
   "source": [
    "(5) Tuple : 순서가 있는 수정이 불가능한 데이터 타입"
   ]
  },
  {
   "cell_type": "code",
   "execution_count": 15,
   "id": "a914e29d",
   "metadata": {},
   "outputs": [
    {
     "name": "stdout",
     "output_type": "stream",
     "text": [
      "1\n"
     ]
    }
   ],
   "source": [
    "tplTest = (1, 2, 3)\n",
    "print(tplTest[0])"
   ]
  },
  {
   "cell_type": "code",
   "execution_count": 58,
   "id": "d578a789",
   "metadata": {},
   "outputs": [
    {
     "ename": "TypeError",
     "evalue": "'tuple' object does not support item assignment",
     "output_type": "error",
     "traceback": [
      "\u001b[1;31m---------------------------------------------------------------------------\u001b[0m",
      "\u001b[1;31mTypeError\u001b[0m                                 Traceback (most recent call last)",
      "\u001b[1;32m~\\AppData\\Local\\Temp\\ipykernel_25012\\665021376.py\u001b[0m in \u001b[0;36m<module>\u001b[1;34m\u001b[0m\n\u001b[0;32m      1\u001b[0m \u001b[1;31m#Tuple형식은 값을 바꿀 수 없음\u001b[0m\u001b[1;33m\u001b[0m\u001b[1;33m\u001b[0m\u001b[0m\n\u001b[1;32m----> 2\u001b[1;33m \u001b[0mtplTest\u001b[0m\u001b[1;33m[\u001b[0m\u001b[1;36m0\u001b[0m\u001b[1;33m]\u001b[0m\u001b[1;33m=\u001b[0m\u001b[1;34m\"hana\"\u001b[0m\u001b[1;33m\u001b[0m\u001b[1;33m\u001b[0m\u001b[0m\n\u001b[0m",
      "\u001b[1;31mTypeError\u001b[0m: 'tuple' object does not support item assignment"
     ]
    }
   ],
   "source": [
    "#Tuple형식은 값을 바꿀 수 없음\n",
    "tplTest[0]=\"hana\"  "
   ]
  },
  {
   "cell_type": "markdown",
   "id": "ec9aab44",
   "metadata": {},
   "source": [
    "(6) Dictionary : 순서가 없고 키:값 으로 구성되어 있는 데이터 타입"
   ]
  },
  {
   "cell_type": "code",
   "execution_count": 59,
   "id": "15b74e73",
   "metadata": {},
   "outputs": [
    {
     "name": "stdout",
     "output_type": "stream",
     "text": [
      "one\n"
     ]
    }
   ],
   "source": [
    "dicTest = {1:'one', 2:'two', 3:'three'}\n",
    "print(dicTest[1])"
   ]
  },
  {
   "cell_type": "code",
   "execution_count": 66,
   "id": "8fc61b43",
   "metadata": {},
   "outputs": [
    {
     "name": "stdout",
     "output_type": "stream",
     "text": [
      "{1: 'hana', 2: 'two', 3: 'three', 4: 'four'}\n"
     ]
    }
   ],
   "source": [
    "# dictionary 추가\n",
    "dicTest[4] = 'four'\n",
    "print(dicTest)"
   ]
  },
  {
   "cell_type": "code",
   "execution_count": 65,
   "id": "b1b9da3d",
   "metadata": {},
   "outputs": [
    {
     "name": "stdout",
     "output_type": "stream",
     "text": [
      "{1: 'hana', 2: 'two', 3: 'three', 4: 'four'}\n"
     ]
    }
   ],
   "source": [
    "# value값 바꾸기\n",
    "dicTest[1] = 'hana'\n",
    "print(dicTest)"
   ]
  },
  {
   "cell_type": "code",
   "execution_count": 64,
   "id": "5c8715f6",
   "metadata": {},
   "outputs": [
    {
     "name": "stdout",
     "output_type": "stream",
     "text": [
      "dict_keys([1, 2, 3, 4])\n",
      "dict_values(['hana', 'two', 'three', 'four'])\n",
      "dict_items([(1, 'hana'), (2, 'two'), (3, 'three'), (4, 'four')])\n"
     ]
    }
   ],
   "source": [
    "# key값 보기\n",
    "print(dicTest.keys())\n",
    "\n",
    "# value값 보기\n",
    "print(dicTest.values())\n",
    "\n",
    "# list형태로 보기\n",
    "print(dicTest.items())"
   ]
  },
  {
   "cell_type": "markdown",
   "id": "1de368ae",
   "metadata": {},
   "source": [
    "### 03. Condition and Loop Statement"
   ]
  },
  {
   "cell_type": "markdown",
   "id": "acd6bfba",
   "metadata": {},
   "source": [
    "(1) Condition"
   ]
  },
  {
   "cell_type": "code",
   "execution_count": 18,
   "id": "8c4639cf",
   "metadata": {},
   "outputs": [
    {
     "name": "stdout",
     "output_type": "stream",
     "text": [
      "C\n"
     ]
    }
   ],
   "source": [
    "numScore = 75\n",
    "if numScore > 90:\n",
    "    print('A')\n",
    "elif numScore > 80:\n",
    "    print('B')\n",
    "elif numScore > 70:\n",
    "    print('C')\n",
    "else:\n",
    "    print('D')"
   ]
  },
  {
   "cell_type": "code",
   "execution_count": 19,
   "id": "0d2e25ff",
   "metadata": {},
   "outputs": [
    {
     "name": "stdout",
     "output_type": "stream",
     "text": [
      "Enter your scores: 86\n",
      "B\n"
     ]
    }
   ],
   "source": [
    "# input 추가\n",
    "numScore = int(input(\"Enter your scores: \"))\n",
    "if numScore >= 90:\n",
    "    print('A')\n",
    "elif numScore >= 80:\n",
    "    print('B')\n",
    "elif numScore >= 70:\n",
    "    print('C')\n",
    "else:\n",
    "    print('D')"
   ]
  },
  {
   "cell_type": "markdown",
   "id": "c98fd286",
   "metadata": {},
   "source": [
    "(2) Loop Statement"
   ]
  },
  {
   "cell_type": "code",
   "execution_count": 20,
   "id": "03c38602",
   "metadata": {},
   "outputs": [
    {
     "name": "stdout",
     "output_type": "stream",
     "text": [
      "0123456789\n"
     ]
    }
   ],
   "source": [
    "for itr in range(10):\n",
    "    print(itr, end='')\n",
    "print()"
   ]
  },
  {
   "cell_type": "code",
   "execution_count": 94,
   "id": "659ce969",
   "metadata": {},
   "outputs": [
    {
     "name": "stdout",
     "output_type": "stream",
     "text": [
      "55\n"
     ]
    }
   ],
   "source": [
    "# Loop Statement의 활용1\n",
    "\n",
    "sum = 0\n",
    "for itr in range(1,11):\n",
    "    sum += itr\n",
    "print(sum)"
   ]
  },
  {
   "cell_type": "code",
   "execution_count": 97,
   "id": "c509eb46",
   "metadata": {},
   "outputs": [
    {
     "name": "stdout",
     "output_type": "stream",
     "text": [
      "[1, 11, 21, 31, 41, 51, 61, 71, 81, 91]\n",
      "1/11/21/31/41/61/71/81/91/\n"
     ]
    }
   ],
   "source": [
    "# Loop Statement의 활용2\n",
    "# range(1, 100, 10)에서 51 제외\n",
    "\n",
    "print(list(range(1, 100, 10)))\n",
    "\n",
    "for itr in range(1,100,10):\n",
    "    if itr == 51:\n",
    "        continue #itr가 51일 경우 print 단계로 넘어가지 않고 for구문 처음으로 다시 돌아감\n",
    "    else:\n",
    "        print(itr, end=\"/\") # end=\"\"를 통해 원하는 기호로 구분 가능\n",
    "print()"
   ]
  },
  {
   "cell_type": "code",
   "execution_count": 99,
   "id": "cf41fdd3",
   "metadata": {},
   "outputs": [
    {
     "name": "stdout",
     "output_type": "stream",
     "text": [
      "0 1 2 3 4 !\n",
      "done\n"
     ]
    }
   ],
   "source": [
    "# continue와 break의 차이\n",
    "for itr in range(5):\n",
    "    print(itr, end=\" \")\n",
    "else:\n",
    "    print('!')\n",
    "print('done')"
   ]
  },
  {
   "cell_type": "code",
   "execution_count": 101,
   "id": "f6d2bf89",
   "metadata": {},
   "outputs": [
    {
     "name": "stdout",
     "output_type": "stream",
     "text": [
      "0,1,2,done\n"
     ]
    }
   ],
   "source": [
    "# break를 사용하면 else로 넘어가지 않고 바로 함수 Stop\n",
    "for itr in range(5):\n",
    "    if itr == 3:\n",
    "        break\n",
    "    print(itr, end=\",\")\n",
    "else:\n",
    "    print('!')\n",
    "print('done')"
   ]
  },
  {
   "cell_type": "code",
   "execution_count": 25,
   "id": "6c5d99b7",
   "metadata": {},
   "outputs": [
    {
     "name": "stdout",
     "output_type": "stream",
     "text": [
      "Goodbye\n"
     ]
    }
   ],
   "source": [
    "itr = sum = 0\n",
    "while itr < 10:\n",
    "    itr = itr+1\n",
    "    if itr == 5:\n",
    "        break\n",
    "    sum = sum+itr\n",
    "else:\n",
    "    print(\"Sum from 1 to 10 : \", sum)\n",
    "print('Goodbye')"
   ]
  },
  {
   "cell_type": "markdown",
   "id": "a0f579e0",
   "metadata": {},
   "source": [
    "### 04. Function Statement"
   ]
  },
  {
   "cell_type": "markdown",
   "id": "ac2bae64",
   "metadata": {},
   "source": [
    "(1) def name(params) : 함수설정 → You can return multiple variables(Keep them in order)"
   ]
  },
  {
   "cell_type": "code",
   "execution_count": 103,
   "id": "8e2b18de",
   "metadata": {},
   "outputs": [],
   "source": [
    "numA = 1\n",
    "numB = 2"
   ]
  },
  {
   "cell_type": "code",
   "execution_count": 104,
   "id": "0a520dfd",
   "metadata": {},
   "outputs": [],
   "source": [
    "def add(numParam1, numParam2):\n",
    "    return numParam1 + numParam2"
   ]
  },
  {
   "cell_type": "code",
   "execution_count": 105,
   "id": "a6e1f478",
   "metadata": {},
   "outputs": [],
   "source": [
    "def multiply(numParam1, numParam2):\n",
    "    return numParam1*2, numParam2*3"
   ]
  },
  {
   "cell_type": "code",
   "execution_count": 106,
   "id": "1295f2bb",
   "metadata": {},
   "outputs": [],
   "source": [
    "def increase(numParam1, step = 1):  #step 자리에 아무 숫자도 입력하지 않을 시, 1이 고정값으로 들어감\n",
    "    return numParam1+step"
   ]
  },
  {
   "cell_type": "code",
   "execution_count": 107,
   "id": "f03e9605",
   "metadata": {},
   "outputs": [],
   "source": [
    "numC = add(numA, numB)\n",
    "numD, numE = multiply(numA, numB)\n",
    "numF = increase(numA, 5)\n",
    "numG = increase(numA) "
   ]
  },
  {
   "cell_type": "code",
   "execution_count": 108,
   "id": "2e99d405",
   "metadata": {},
   "outputs": [
    {
     "name": "stdout",
     "output_type": "stream",
     "text": [
      "3 2 6 6 2\n"
     ]
    }
   ],
   "source": [
    "print(numC, numD, numE, numF, numG)"
   ]
  },
  {
   "cell_type": "markdown",
   "id": "b9c02548",
   "metadata": {},
   "source": [
    "(2) lambda : One line function"
   ]
  },
  {
   "cell_type": "code",
   "execution_count": 109,
   "id": "20a2b0f0",
   "metadata": {},
   "outputs": [],
   "source": [
    "lambdaAdd = lambda numParam1, numParam2 : numParam1 + numParam2"
   ]
  },
  {
   "cell_type": "code",
   "execution_count": 110,
   "id": "c870a0e6",
   "metadata": {},
   "outputs": [],
   "source": [
    "numH = lambdaAdd(numA, numB)"
   ]
  },
  {
   "cell_type": "code",
   "execution_count": 111,
   "id": "b12adef0",
   "metadata": {},
   "outputs": [
    {
     "name": "stdout",
     "output_type": "stream",
     "text": [
      "3 2 6 6 2 3\n"
     ]
    }
   ],
   "source": [
    "print(numC, numD, numE, numF, numG, numH)"
   ]
  },
  {
   "cell_type": "markdown",
   "id": "ff09a5cf",
   "metadata": {},
   "source": [
    "(3) Sample Program : Finding Prime Numbers "
   ]
  },
  {
   "cell_type": "code",
   "execution_count": 34,
   "id": "5acec435",
   "metadata": {},
   "outputs": [],
   "source": [
    "#### Function for calculation (Definition)\n",
    "def isPrimeNumber(numParam1):\n",
    "    for itr in range(2, numParam1):\n",
    "        if numParam1 % itr == 0:\n",
    "            break\n",
    "    else:\n",
    "        return True\n",
    "    return False"
   ]
  },
  {
   "cell_type": "code",
   "execution_count": 35,
   "id": "52abd2e2",
   "metadata": {},
   "outputs": [
    {
     "data": {
      "text/plain": [
       "(False, True)"
      ]
     },
     "execution_count": 35,
     "metadata": {},
     "output_type": "execute_result"
    }
   ],
   "source": [
    "isPrimeNumber(10), isPrimeNumber(5)"
   ]
  },
  {
   "cell_type": "code",
   "execution_count": 36,
   "id": "67f732a5",
   "metadata": {},
   "outputs": [],
   "source": [
    "#### Function for iteration (CALL)\n",
    "def findPrimes(numParam1, numParam2):\n",
    "    numCount = 1\n",
    "    for itr in range(numParam1, numParam2):\n",
    "        if isPrimeNumber(itr) == True:\n",
    "            print(numCount, \" th prime : \", itr)\n",
    "            numCount = numCount + 1"
   ]
  },
  {
   "cell_type": "code",
   "execution_count": 37,
   "id": "14944cbc",
   "metadata": {},
   "outputs": [
    {
     "name": "stdout",
     "output_type": "stream",
     "text": [
      "1  th prime :  1\n",
      "2  th prime :  2\n",
      "3  th prime :  3\n",
      "4  th prime :  5\n",
      "5  th prime :  7\n"
     ]
    }
   ],
   "source": [
    "findPrimes(1, 10)"
   ]
  },
  {
   "cell_type": "markdown",
   "id": "11c22248",
   "metadata": {},
   "source": [
    "### 05. Assignment and Equivalence"
   ]
  },
  {
   "cell_type": "code",
   "execution_count": 39,
   "id": "aee7ac55",
   "metadata": {},
   "outputs": [],
   "source": [
    "x = [1, 2, 3]\n",
    "y = [100, x, 120]\n",
    "z = [x, 'a', 'b']"
   ]
  },
  {
   "cell_type": "code",
   "execution_count": 40,
   "id": "338a2e51",
   "metadata": {},
   "outputs": [
    {
     "name": "stdout",
     "output_type": "stream",
     "text": [
      "x:  [1, 2, 3]\n",
      "y:  [100, [1, 2, 3], 120]\n",
      "z:  [[1, 2, 3], 'a', 'b']\n"
     ]
    }
   ],
   "source": [
    "print('x: ', x)\n",
    "print('y: ', y)\n",
    "print('z: ', z)"
   ]
  },
  {
   "cell_type": "code",
   "execution_count": 41,
   "id": "3d31435c",
   "metadata": {},
   "outputs": [
    {
     "data": {
      "text/plain": [
       "[1, 1717, 3]"
      ]
     },
     "execution_count": 41,
     "metadata": {},
     "output_type": "execute_result"
    }
   ],
   "source": [
    "x[1] = 1717\n",
    "x"
   ]
  },
  {
   "cell_type": "code",
   "execution_count": 112,
   "id": "9ab0fdf4",
   "metadata": {},
   "outputs": [
    {
     "name": "stdout",
     "output_type": "stream",
     "text": [
      "[100, [1, 2, 3], 120] [[1, 2, 3], 'a', 'b']\n"
     ]
    }
   ],
   "source": [
    "#y를 수정하지 않더라도, x자체가 변하면 y 내의 x값도 변함 (reference 형태로 저장되는 것)\n",
    "print(y, z) "
   ]
  },
  {
   "cell_type": "code",
   "execution_count": 43,
   "id": "a87e1f86",
   "metadata": {},
   "outputs": [
    {
     "name": "stdout",
     "output_type": "stream",
     "text": [
      "[1, 2, 3] [1, 2, 3]\n"
     ]
    }
   ],
   "source": [
    "x[1] = 2\n",
    "x2 = [1, 2, 3]\n",
    "print(x, x2)"
   ]
  },
  {
   "cell_type": "code",
   "execution_count": 44,
   "id": "bb08e10b",
   "metadata": {},
   "outputs": [
    {
     "name": "stdout",
     "output_type": "stream",
     "text": [
      "Values are equivalent\n"
     ]
    }
   ],
   "source": [
    "if x == x2:\n",
    "    print(\"Values are equivalent\")\n",
    "else:\n",
    "    print(\"Values are not equivalent\")"
   ]
  },
  {
   "cell_type": "code",
   "execution_count": 45,
   "id": "ba9892c5",
   "metadata": {},
   "outputs": [
    {
     "name": "stdout",
     "output_type": "stream",
     "text": [
      "Values are not stored at the same place\n"
     ]
    }
   ],
   "source": [
    "# 값이 같더라도 x와 x2는 다른 store space에 저장되어 있음\n",
    "\n",
    "if x is x2:\n",
    "    print(\"Values are stored at the same place\")\n",
    "else:\n",
    "    print(\"Values are not stored at the same place\")"
   ]
  },
  {
   "cell_type": "code",
   "execution_count": 46,
   "id": "de4de652",
   "metadata": {},
   "outputs": [
    {
     "name": "stdout",
     "output_type": "stream",
     "text": [
      "Values are stored at the same place\n"
     ]
    }
   ],
   "source": [
    " if x[1] is y[1][1]: # y[1][1] = x[1]\n",
    "    print(\"Values are stored at the same place\") \n",
    "else:\n",
    "    print(\"Values are not stored at the same place\")"
   ]
  },
  {
   "cell_type": "markdown",
   "id": "d3eddc24",
   "metadata": {},
   "source": [
    "### 06. Class and Instance"
   ]
  },
  {
   "cell_type": "code",
   "execution_count": 47,
   "id": "a14e356f",
   "metadata": {},
   "outputs": [],
   "source": [
    "class MyHome:\n",
    "    colorRoof = 'red'\n",
    "    stateDoor = 'closed'\n",
    "    def paintRoof(self, color):\n",
    "        self.colorRoof = color\n",
    "    def openDoor(self):\n",
    "        self.stateDoor = 'open'\n",
    "    def closeDoor(self):\n",
    "        self.stateDoor = 'close'\n",
    "    def printStatus(self):\n",
    "        print(\"Roof color is \", self.colorRoof, \", and door is\", self.stateDoor)"
   ]
  },
  {
   "cell_type": "code",
   "execution_count": 48,
   "id": "ab46c81c",
   "metadata": {},
   "outputs": [],
   "source": [
    "homeatDaegu = MyHome()\n",
    "homeatSeoul = MyHome()"
   ]
  },
  {
   "cell_type": "code",
   "execution_count": 49,
   "id": "9c9c7226",
   "metadata": {},
   "outputs": [
    {
     "data": {
      "text/plain": [
       "False"
      ]
     },
     "execution_count": 49,
     "metadata": {},
     "output_type": "execute_result"
    }
   ],
   "source": [
    "homeatDaegu is homeatSeoul"
   ]
  },
  {
   "cell_type": "code",
   "execution_count": 50,
   "id": "0a095275",
   "metadata": {},
   "outputs": [],
   "source": [
    "homeatDaegu.paintRoof('blue')"
   ]
  },
  {
   "cell_type": "code",
   "execution_count": 51,
   "id": "637fc226",
   "metadata": {},
   "outputs": [],
   "source": [
    "homeatSeoul.openDoor()"
   ]
  },
  {
   "cell_type": "code",
   "execution_count": 52,
   "id": "ccd07537",
   "metadata": {},
   "outputs": [
    {
     "name": "stdout",
     "output_type": "stream",
     "text": [
      "Roof color is  blue , and door is closed\n"
     ]
    }
   ],
   "source": [
    "homeatDaegu.printStatus()"
   ]
  },
  {
   "cell_type": "code",
   "execution_count": 53,
   "id": "c27aa04f",
   "metadata": {},
   "outputs": [
    {
     "name": "stdout",
     "output_type": "stream",
     "text": [
      "Roof color is  red , and door is open\n"
     ]
    }
   ],
   "source": [
    "homeatSeoul.printStatus()"
   ]
  },
  {
   "cell_type": "markdown",
   "id": "aa26e774",
   "metadata": {},
   "source": [
    "### 07. Important Methods in Class - Constructor, Destructor"
   ]
  },
  {
   "cell_type": "code",
   "execution_count": 54,
   "id": "c106d78d",
   "metadata": {},
   "outputs": [],
   "source": [
    "# Constructor(생성자) : Called when instantiated ← instance를 초기화하여 우리가 원하는 형태로 저장하는 것\n",
    "# Deconstructor(소멸자) : Called when the instance is removed from the value table ← 안전한 프로그래밍을 위해 필요"
   ]
  },
  {
   "cell_type": "code",
   "execution_count": 55,
   "id": "034b31f6",
   "metadata": {},
   "outputs": [],
   "source": [
    "from time import ctime"
   ]
  },
  {
   "cell_type": "code",
   "execution_count": 56,
   "id": "091f496a",
   "metadata": {},
   "outputs": [],
   "source": [
    "class MyHome:\n",
    "    colorRoof = 'red'\n",
    "    stateDoor = 'closed'\n",
    "    def paintRoof(self, color):\n",
    "        self.colorRoof = color\n",
    "    def openDoor(self):\n",
    "        self.stateDoor = 'open'\n",
    "    def closeDoor(self):\n",
    "        self.stateDoor = 'close'\n",
    "    def printStatus(self):\n",
    "        print(\"Roof color is \", self.colorRoof, \", and door is\", self.stateDoor)\n",
    "    def __int__(self, strAddress):\n",
    "        print(\"Built on\", strAddress)\n",
    "        print(\"Built at\", ctime())\n",
    "    def __del__(self):\n",
    "        print(\"Destroyed at\", ctime())"
   ]
  },
  {
   "cell_type": "markdown",
   "id": "d5345ec7",
   "metadata": {},
   "source": [
    "### 08. Module and Import"
   ]
  },
  {
   "cell_type": "code",
   "execution_count": 57,
   "id": "19e73074",
   "metadata": {},
   "outputs": [],
   "source": [
    "# Packages : directories\n",
    "# Clusters Moules → filename.py\n",
    "# from package import module\n",
    "# Package has __init__.py in the directory"
   ]
  },
  {
   "cell_type": "code",
   "execution_count": null,
   "id": "476739b5",
   "metadata": {},
   "outputs": [],
   "source": []
  }
 ],
 "metadata": {
  "kernelspec": {
   "display_name": "Python 3 (ipykernel)",
   "language": "python",
   "name": "python3"
  },
  "language_info": {
   "codemirror_mode": {
    "name": "ipython",
    "version": 3
   },
   "file_extension": ".py",
   "mimetype": "text/x-python",
   "name": "python",
   "nbconvert_exporter": "python",
   "pygments_lexer": "ipython3",
   "version": "3.9.13"
  }
 },
 "nbformat": 4,
 "nbformat_minor": 5
}

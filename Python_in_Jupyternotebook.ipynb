{
  "cells": [
    {
      "cell_type": "markdown",
      "metadata": {
        "id": "view-in-github",
        "colab_type": "text"
      },
      "source": [
        "<a href=\"https://colab.research.google.com/github/statrav/pages/blob/main/Python_in_Jupyternotebook.ipynb\" target=\"_parent\"><img src=\"https://colab.research.google.com/assets/colab-badge.svg\" alt=\"Open In Colab\"/></a>"
      ]
    },
    {
      "cell_type": "markdown",
      "id": "254c8f99",
      "metadata": {
        "id": "254c8f99"
      },
      "source": [
        "# Ch1. Python Overview"
      ]
    },
    {
      "cell_type": "markdown",
      "id": "2bc38810",
      "metadata": {
        "id": "2bc38810"
      },
      "source": [
        "### 01. Hello World in Python"
      ]
    },
    {
      "cell_type": "markdown",
      "id": "0e28009d",
      "metadata": {
        "id": "0e28009d"
      },
      "source": [
        "(1) def(함수)를 사용한 Hello World 도출"
      ]
    },
    {
      "cell_type": "code",
      "execution_count": null,
      "id": "cb7208bb",
      "metadata": {
        "id": "cb7208bb"
      },
      "outputs": [],
      "source": [
        "def main():\n",
        "    print(\"Hello World!\")\n",
        "    print(\"This program computes the average of two scores.\")\n",
        "    \n",
        "    score1, score2 = input(\"Enter your two scores separated by a comma : \").split(\",\")\n",
        "    average = (int(score1) + int(score2)) / int(2)\n",
        "    \n",
        "    print(\"The average of your scores is \", average)"
      ]
    },
    {
      "cell_type": "code",
      "execution_count": null,
      "id": "72a42bd8",
      "metadata": {
        "id": "72a42bd8",
        "outputId": "59e92eab-4940-4e1e-bc70-4df5a93e5dfa"
      },
      "outputs": [
        {
          "name": "stdout",
          "output_type": "stream",
          "text": [
            "Hello World!\n",
            "This program computes the average of two scores.\n",
            "Enter your two scores separated by a comma : 100, 95\n",
            "The average of your scores is  97.5\n"
          ]
        }
      ],
      "source": [
        "main()"
      ]
    },
    {
      "cell_type": "markdown",
      "id": "cd1044e8",
      "metadata": {
        "id": "cd1044e8"
      },
      "source": [
        "(2) Class를 사용한 Hellow World 도출"
      ]
    },
    {
      "cell_type": "code",
      "execution_count": null,
      "id": "145cd23c",
      "metadata": {
        "id": "145cd23c"
      },
      "outputs": [],
      "source": [
        "class HelloWorld:\n",
        "    def __int__(self):\n",
        "        print(\"Hello World! Just one more time!\")\n",
        "    def __del__(self):\n",
        "        print(\"Goodbye!\")\n",
        "    def performAverage(self, val1, val2):\n",
        "        average = (int(val1)+int(val2))/int(2)\n",
        "        print(\"The average of your scores is \", average)\n",
        "\n",
        "def main():\n",
        "    world = HelloWorld()\n",
        "    score1, score2 = input(\"Enter your two scores separated by a comma : \").split(\",\")\n",
        "    world.performAverage(score1, score2)"
      ]
    },
    {
      "cell_type": "code",
      "execution_count": null,
      "id": "86da87ab",
      "metadata": {
        "id": "86da87ab",
        "outputId": "d9b5e5dd-3fe5-475e-fa39-442bd04dc686"
      },
      "outputs": [
        {
          "name": "stdout",
          "output_type": "stream",
          "text": [
            "Enter your two scores separated by a comma : 100,95\n",
            "The average of your scores is  97.5\n",
            "Goodbye!\n"
          ]
        }
      ],
      "source": [
        "main()"
      ]
    },
    {
      "cell_type": "markdown",
      "id": "aa59fe72",
      "metadata": {
        "id": "aa59fe72"
      },
      "source": [
        "### 02. Variable Statement and Operators"
      ]
    },
    {
      "cell_type": "markdown",
      "id": "8a5105cc",
      "metadata": {
        "id": "8a5105cc"
      },
      "source": [
        "(1) 복소수 표현방법 : complex"
      ]
    },
    {
      "cell_type": "code",
      "execution_count": null,
      "id": "2a63366b",
      "metadata": {
        "id": "2a63366b"
      },
      "outputs": [],
      "source": [
        "def main():\n",
        "    numYearBase10 = 2019\n",
        "    numYearBase8 = 0o3743\n",
        "    numYearBase16 = 0x7E3\n",
        "\n",
        "    print(\"Year by base 10: %d, by base 8: %d, by base 16: %d\" %(numYearBase10, numYearBase8, numYearBase16))\n",
        "    #'%d'의 경우 그 자리에 데이터를 끼워넣게끔 함 (데이터 순서대로 삽입)\n",
        "\n",
        "    numComplex1 = complex(3,4)  #복소수 표현방법1\n",
        "    numComplex2 = 4+3j  #복소수 표현방법2\n",
        "\n",
        "    print(\"Complex value : \", numComplex1)\n",
        "    print(\"Absoulte value : \", abs(numComplex2))  #절댓값 #복소수의 경우 크기를 반환함\n",
        "    print(\"Real value\", numComplex2.real)  #실수부\n",
        "    print(\"Image value\", numComplex2.imag)  #허수부"
      ]
    },
    {
      "cell_type": "code",
      "execution_count": null,
      "id": "72d9c9a7",
      "metadata": {
        "id": "72d9c9a7",
        "outputId": "17389f3b-26a1-4933-eb09-4421b380ca68"
      },
      "outputs": [
        {
          "name": "stdout",
          "output_type": "stream",
          "text": [
            "Year by base 10: 2019, by base 8: 2019, by base 16: 2019\n",
            "Complex value :  (3+4j)\n",
            "Absoulte value :  5.0\n",
            "Real value 4.0\n",
            "Image value 3.0\n"
          ]
        }
      ],
      "source": [
        "main()"
      ]
    },
    {
      "cell_type": "markdown",
      "id": "bac94ed6",
      "metadata": {
        "id": "bac94ed6"
      },
      "source": [
        "(2) 기본 연산법"
      ]
    },
    {
      "cell_type": "markdown",
      "id": "0da2bbc7",
      "metadata": {
        "id": "0da2bbc7"
      },
      "source": [
        "![image.png](attachment:image.png)"
      ]
    },
    {
      "cell_type": "code",
      "execution_count": null,
      "id": "476347fd",
      "metadata": {
        "id": "476347fd"
      },
      "outputs": [],
      "source": [
        "def main():\n",
        "    numTest1 = 10\n",
        "    numTest2 = 3.0\n",
        "    numPlus = numTest1 + numTest2\n",
        "    numMinus = numTest1 - numTest2\n",
        "    numMultiply = numTest1 * numTest2\n",
        "    numDivide = numTest1 / numTest2\n",
        "    numModula = numTest1 % numTest2  #나머지\n",
        "    print(\"%d, %d, %d, %f, %d\" %(numPlus, numMinus, numMultiply, numDivide, numModula))  # %f : 소수점까지 표현\n",
        "    print(numTest1 == numTest2)  #같다\n",
        "    print(numTest1 != numTest2)  #다르다\n",
        "    print(type(numTest1), numTest1)"
      ]
    },
    {
      "cell_type": "code",
      "execution_count": null,
      "id": "6407c751",
      "metadata": {
        "id": "6407c751",
        "outputId": "33684382-b583-46b9-83e2-b792a337f3be"
      },
      "outputs": [
        {
          "name": "stdout",
          "output_type": "stream",
          "text": [
            "13, 7, 30, 3.333333, 1\n",
            "False\n",
            "True\n",
            "<class 'int'> 10\n"
          ]
        }
      ],
      "source": [
        "main()"
      ]
    },
    {
      "cell_type": "markdown",
      "id": "a802c205",
      "metadata": {
        "id": "a802c205"
      },
      "source": [
        "(3) String : 문자 데이터 타입"
      ]
    },
    {
      "cell_type": "code",
      "execution_count": null,
      "id": "7aae1119",
      "metadata": {
        "id": "7aae1119"
      },
      "outputs": [],
      "source": [
        "strTest = 'Hello World! ISE'"
      ]
    },
    {
      "cell_type": "code",
      "execution_count": null,
      "id": "59e5566e",
      "metadata": {
        "id": "59e5566e",
        "outputId": "f4a6f5fb-3529-4605-d6da-9f5ca96a108d"
      },
      "outputs": [
        {
          "name": "stdout",
          "output_type": "stream",
          "text": [
            "H E Hel H\n"
          ]
        }
      ],
      "source": [
        "# 문자열 위치\n",
        "print(strTest[0], strTest[-1], strTest[0:3], strTest[0::-1])"
      ]
    },
    {
      "cell_type": "code",
      "execution_count": null,
      "id": "15bd664b",
      "metadata": {
        "id": "15bd664b",
        "outputId": "19ec6693-55f6-4b16-939c-26da3a336cf1"
      },
      "outputs": [
        {
          "name": "stdout",
          "output_type": "stream",
          "text": [
            "True False\n"
          ]
        }
      ],
      "source": [
        "# 멤버 연산 : in & not in 연산자\n",
        "print(\"ISE\" in strTest, \"ISE\" not in strTest)"
      ]
    },
    {
      "cell_type": "code",
      "execution_count": null,
      "id": "ca735cd2",
      "metadata": {
        "id": "ca735cd2",
        "outputId": "31d34f9b-00e4-4142-b0fe-45e893dedfbf"
      },
      "outputs": [
        {
          "name": "stdout",
          "output_type": "stream",
          "text": [
            "Hello World! ISE Dept\n"
          ]
        }
      ],
      "source": [
        "# 문자열에서의 +\n",
        "print(strTest+\" Dept\")"
      ]
    },
    {
      "cell_type": "markdown",
      "id": "083e99a8",
      "metadata": {
        "id": "083e99a8"
      },
      "source": [
        "(4) List : 순서가 있는 수정이 가능한 데이터 타입"
      ]
    },
    {
      "cell_type": "code",
      "execution_count": null,
      "id": "c3431703",
      "metadata": {
        "id": "c3431703",
        "outputId": "e0853d6e-b4e6-4f4c-8696-e3f4e5cbbb83"
      },
      "outputs": [
        {
          "name": "stdout",
          "output_type": "stream",
          "text": [
            "4 [1, 2] [4, 3, 2, 1]\n"
          ]
        }
      ],
      "source": [
        "# 값, 범위\n",
        "lstTest = [1, 2, 3, 4]\n",
        "print(lstTest[3], lstTest[0:2], lstTest[::-1])"
      ]
    },
    {
      "cell_type": "code",
      "execution_count": null,
      "id": "5b1d615c",
      "metadata": {
        "id": "5b1d615c",
        "outputId": "3603c105-7101-42c5-d82a-ca05566541a3"
      },
      "outputs": [
        {
          "name": "stdout",
          "output_type": "stream",
          "text": [
            "[1, 2, 3, 4, 1, 2, 3, 4]\n",
            "[1, 2, 3, 4, 1, 2, 3, 4, 1, 2, 3, 4]\n"
          ]
        }
      ],
      "source": [
        "# List 더하기\n",
        "print(lstTest+lstTest)\n",
        "print(lstTest*3)"
      ]
    },
    {
      "cell_type": "code",
      "execution_count": null,
      "id": "77a68b32",
      "metadata": {
        "id": "77a68b32",
        "outputId": "65aa04f9-73f1-46c4-c368-b3345ff2eb85"
      },
      "outputs": [
        {
          "name": "stdout",
          "output_type": "stream",
          "text": [
            "False True\n"
          ]
        }
      ],
      "source": [
        "# 멤버 연산 : in & not in 연산자\n",
        "print(5 in lstTest, 5 not in lstTest)"
      ]
    },
    {
      "cell_type": "code",
      "execution_count": null,
      "id": "54efa4d6",
      "metadata": {
        "id": "54efa4d6",
        "outputId": "a5fa5b25-32b5-411a-b4bb-ad5600e490f3"
      },
      "outputs": [
        {
          "name": "stdout",
          "output_type": "stream",
          "text": [
            "[1, 2, 3, 4, 'num']\n"
          ]
        }
      ],
      "source": [
        "# append : list의 가장 오른쪽에 값을 추가\n",
        "lstTest.append('num')\n",
        "print(lstTest)"
      ]
    },
    {
      "cell_type": "code",
      "execution_count": null,
      "id": "f4a6f6c8",
      "metadata": {
        "id": "f4a6f6c8",
        "outputId": "72eb5b30-2e4e-416d-db70-1a408722df79"
      },
      "outputs": [
        {
          "name": "stdout",
          "output_type": "stream",
          "text": [
            "[2, 3, 4, 'num']\n"
          ]
        }
      ],
      "source": [
        "# list 위치로 인자 삭제\n",
        "del lstTest[0]\n",
        "print(lstTest)"
      ]
    },
    {
      "cell_type": "code",
      "execution_count": null,
      "id": "d7db1c5e",
      "metadata": {
        "id": "d7db1c5e",
        "outputId": "985ebcb2-dba3-4d66-ced5-d5209d84e37d"
      },
      "outputs": [
        {
          "name": "stdout",
          "output_type": "stream",
          "text": [
            "['num', 4, 3, 2]\n"
          ]
        }
      ],
      "source": [
        "# list 순서 뒤바꾸기\n",
        "lstTest.reverse()\n",
        "print(lstTest)"
      ]
    },
    {
      "cell_type": "code",
      "execution_count": null,
      "id": "a2063417",
      "metadata": {
        "id": "a2063417",
        "outputId": "89a1253f-72fe-4418-c760-4eaad69ecd16"
      },
      "outputs": [
        {
          "name": "stdout",
          "output_type": "stream",
          "text": [
            "['num', 4, 2]\n"
          ]
        }
      ],
      "source": [
        "# list 인자 삭제\n",
        "lstTest.remove(3)\n",
        "print(lstTest)"
      ]
    },
    {
      "cell_type": "markdown",
      "id": "2a00267e",
      "metadata": {
        "id": "2a00267e"
      },
      "source": [
        "(5) Tuple : 순서가 있는 수정이 불가능한 데이터 타입"
      ]
    },
    {
      "cell_type": "code",
      "execution_count": null,
      "id": "a914e29d",
      "metadata": {
        "id": "a914e29d",
        "outputId": "fe175cf1-cafe-4eae-a515-9cd34f6e11a5"
      },
      "outputs": [
        {
          "name": "stdout",
          "output_type": "stream",
          "text": [
            "1\n"
          ]
        }
      ],
      "source": [
        "tplTest = (1, 2, 3)\n",
        "print(tplTest[0])"
      ]
    },
    {
      "cell_type": "code",
      "execution_count": null,
      "id": "d578a789",
      "metadata": {
        "id": "d578a789",
        "outputId": "b218ecfc-36a7-4c00-e96f-94e48c0419a7"
      },
      "outputs": [
        {
          "ename": "TypeError",
          "evalue": "'tuple' object does not support item assignment",
          "output_type": "error",
          "traceback": [
            "\u001b[1;31m---------------------------------------------------------------------------\u001b[0m",
            "\u001b[1;31mTypeError\u001b[0m                                 Traceback (most recent call last)",
            "\u001b[1;32m~\\AppData\\Local\\Temp\\ipykernel_25012\\665021376.py\u001b[0m in \u001b[0;36m<module>\u001b[1;34m\u001b[0m\n\u001b[0;32m      1\u001b[0m \u001b[1;31m#Tuple형식은 값을 바꿀 수 없음\u001b[0m\u001b[1;33m\u001b[0m\u001b[1;33m\u001b[0m\u001b[0m\n\u001b[1;32m----> 2\u001b[1;33m \u001b[0mtplTest\u001b[0m\u001b[1;33m[\u001b[0m\u001b[1;36m0\u001b[0m\u001b[1;33m]\u001b[0m\u001b[1;33m=\u001b[0m\u001b[1;34m\"hana\"\u001b[0m\u001b[1;33m\u001b[0m\u001b[1;33m\u001b[0m\u001b[0m\n\u001b[0m",
            "\u001b[1;31mTypeError\u001b[0m: 'tuple' object does not support item assignment"
          ]
        }
      ],
      "source": [
        "#Tuple형식은 값을 바꿀 수 없음\n",
        "tplTest[0]=\"hana\"  "
      ]
    },
    {
      "cell_type": "markdown",
      "id": "ec9aab44",
      "metadata": {
        "id": "ec9aab44"
      },
      "source": [
        "(6) Dictionary : 순서가 없고 키:값 으로 구성되어 있는 데이터 타입"
      ]
    },
    {
      "cell_type": "code",
      "execution_count": null,
      "id": "15b74e73",
      "metadata": {
        "id": "15b74e73",
        "outputId": "d6a2fce0-02bf-4745-d0e9-68203e88e75a"
      },
      "outputs": [
        {
          "name": "stdout",
          "output_type": "stream",
          "text": [
            "one\n"
          ]
        }
      ],
      "source": [
        "dicTest = {1:'one', 2:'two', 3:'three'}\n",
        "print(dicTest[1])"
      ]
    },
    {
      "cell_type": "code",
      "execution_count": null,
      "id": "8fc61b43",
      "metadata": {
        "id": "8fc61b43",
        "outputId": "fd875724-34c9-4ebf-e247-f42982cdbcd5"
      },
      "outputs": [
        {
          "name": "stdout",
          "output_type": "stream",
          "text": [
            "{1: 'hana', 2: 'two', 3: 'three', 4: 'four'}\n"
          ]
        }
      ],
      "source": [
        "# dictionary 추가\n",
        "dicTest[4] = 'four'\n",
        "print(dicTest)"
      ]
    },
    {
      "cell_type": "code",
      "execution_count": null,
      "id": "b1b9da3d",
      "metadata": {
        "id": "b1b9da3d",
        "outputId": "e2ed3ec7-05ed-4032-ffc0-75343fab2bd6"
      },
      "outputs": [
        {
          "name": "stdout",
          "output_type": "stream",
          "text": [
            "{1: 'hana', 2: 'two', 3: 'three', 4: 'four'}\n"
          ]
        }
      ],
      "source": [
        "# value값 바꾸기\n",
        "dicTest[1] = 'hana'\n",
        "print(dicTest)"
      ]
    },
    {
      "cell_type": "code",
      "execution_count": null,
      "id": "5c8715f6",
      "metadata": {
        "id": "5c8715f6",
        "outputId": "bfae991e-bcd7-403d-d4a0-b506fba5fb24"
      },
      "outputs": [
        {
          "name": "stdout",
          "output_type": "stream",
          "text": [
            "dict_keys([1, 2, 3, 4])\n",
            "dict_values(['hana', 'two', 'three', 'four'])\n",
            "dict_items([(1, 'hana'), (2, 'two'), (3, 'three'), (4, 'four')])\n"
          ]
        }
      ],
      "source": [
        "# key값 보기\n",
        "print(dicTest.keys())\n",
        "\n",
        "# value값 보기\n",
        "print(dicTest.values())\n",
        "\n",
        "# list형태로 보기\n",
        "print(dicTest.items())"
      ]
    },
    {
      "cell_type": "markdown",
      "id": "1de368ae",
      "metadata": {
        "id": "1de368ae"
      },
      "source": [
        "### 03. Condition and Loop Statement"
      ]
    },
    {
      "cell_type": "markdown",
      "id": "acd6bfba",
      "metadata": {
        "id": "acd6bfba"
      },
      "source": [
        "(1) Condition"
      ]
    },
    {
      "cell_type": "code",
      "execution_count": null,
      "id": "8c4639cf",
      "metadata": {
        "id": "8c4639cf",
        "outputId": "c397ce89-d8cf-4044-c00a-8239bd08810a"
      },
      "outputs": [
        {
          "name": "stdout",
          "output_type": "stream",
          "text": [
            "C\n"
          ]
        }
      ],
      "source": [
        "numScore = 75\n",
        "if numScore > 90:\n",
        "    print('A')\n",
        "elif numScore > 80:\n",
        "    print('B')\n",
        "elif numScore > 70:\n",
        "    print('C')\n",
        "else:\n",
        "    print('D')"
      ]
    },
    {
      "cell_type": "code",
      "execution_count": null,
      "id": "0d2e25ff",
      "metadata": {
        "id": "0d2e25ff",
        "outputId": "32109099-4a7e-486f-89f2-04bc8ccc337b"
      },
      "outputs": [
        {
          "name": "stdout",
          "output_type": "stream",
          "text": [
            "Enter your scores: 86\n",
            "B\n"
          ]
        }
      ],
      "source": [
        "# input 추가\n",
        "numScore = int(input(\"Enter your scores: \"))\n",
        "if numScore >= 90:\n",
        "    print('A')\n",
        "elif numScore >= 80:\n",
        "    print('B')\n",
        "elif numScore >= 70:\n",
        "    print('C')\n",
        "else:\n",
        "    print('D')"
      ]
    },
    {
      "cell_type": "markdown",
      "id": "c98fd286",
      "metadata": {
        "id": "c98fd286"
      },
      "source": [
        "(2) Loop Statement"
      ]
    },
    {
      "cell_type": "code",
      "execution_count": null,
      "id": "03c38602",
      "metadata": {
        "id": "03c38602",
        "outputId": "998adf34-aa00-4847-ef7f-05abdc61bee6"
      },
      "outputs": [
        {
          "name": "stdout",
          "output_type": "stream",
          "text": [
            "0123456789\n"
          ]
        }
      ],
      "source": [
        "for itr in range(10):\n",
        "    print(itr, end='')\n",
        "print()"
      ]
    },
    {
      "cell_type": "code",
      "execution_count": null,
      "id": "659ce969",
      "metadata": {
        "id": "659ce969",
        "outputId": "73f19cca-30f8-4fa4-dcb4-89ccc21b88a7"
      },
      "outputs": [
        {
          "name": "stdout",
          "output_type": "stream",
          "text": [
            "55\n"
          ]
        }
      ],
      "source": [
        "# Loop Statement의 활용1\n",
        "\n",
        "sum = 0\n",
        "for itr in range(1,11):\n",
        "    sum += itr\n",
        "print(sum)"
      ]
    },
    {
      "cell_type": "code",
      "execution_count": null,
      "id": "c509eb46",
      "metadata": {
        "id": "c509eb46",
        "outputId": "a2eb3b55-a13e-4635-fb76-3ba8fa7ddac3"
      },
      "outputs": [
        {
          "name": "stdout",
          "output_type": "stream",
          "text": [
            "[1, 11, 21, 31, 41, 51, 61, 71, 81, 91]\n",
            "1/11/21/31/41/61/71/81/91/\n"
          ]
        }
      ],
      "source": [
        "# Loop Statement의 활용2\n",
        "# range(1, 100, 10)에서 51 제외\n",
        "\n",
        "print(list(range(1, 100, 10)))\n",
        "\n",
        "for itr in range(1,100,10):\n",
        "    if itr == 51:\n",
        "        continue #itr가 51일 경우 print 단계로 넘어가지 않고 for구문 처음으로 다시 돌아감\n",
        "    else:\n",
        "        print(itr, end=\"/\") # end=\"\"를 통해 원하는 기호로 구분 가능\n",
        "print()"
      ]
    },
    {
      "cell_type": "code",
      "execution_count": null,
      "id": "cf41fdd3",
      "metadata": {
        "id": "cf41fdd3",
        "outputId": "b0c1f77a-bf94-4779-f3b0-d28a6429fe33"
      },
      "outputs": [
        {
          "name": "stdout",
          "output_type": "stream",
          "text": [
            "0 1 2 3 4 !\n",
            "done\n"
          ]
        }
      ],
      "source": [
        "# continue와 break의 차이\n",
        "for itr in range(5):\n",
        "    print(itr, end=\" \")\n",
        "else:\n",
        "    print('!')\n",
        "print('done')"
      ]
    },
    {
      "cell_type": "code",
      "execution_count": null,
      "id": "f6d2bf89",
      "metadata": {
        "id": "f6d2bf89",
        "outputId": "687e1e3f-1083-498a-dfa6-72ce88b58eae"
      },
      "outputs": [
        {
          "name": "stdout",
          "output_type": "stream",
          "text": [
            "0,1,2,done\n"
          ]
        }
      ],
      "source": [
        "# break를 사용하면 else로 넘어가지 않고 바로 함수 Stop\n",
        "for itr in range(5):\n",
        "    if itr == 3:\n",
        "        break\n",
        "    print(itr, end=\",\")\n",
        "else:\n",
        "    print('!')\n",
        "print('done')"
      ]
    },
    {
      "cell_type": "code",
      "execution_count": null,
      "id": "6c5d99b7",
      "metadata": {
        "id": "6c5d99b7",
        "outputId": "893af408-7b88-4fe1-dd77-76d8fc38ca06"
      },
      "outputs": [
        {
          "name": "stdout",
          "output_type": "stream",
          "text": [
            "Goodbye\n"
          ]
        }
      ],
      "source": [
        "itr = sum = 0\n",
        "while itr < 10:\n",
        "    itr = itr+1\n",
        "    if itr == 5:\n",
        "        break\n",
        "    sum = sum+itr\n",
        "else:\n",
        "    print(\"Sum from 1 to 10 : \", sum)\n",
        "print('Goodbye')"
      ]
    },
    {
      "cell_type": "markdown",
      "id": "a0f579e0",
      "metadata": {
        "id": "a0f579e0"
      },
      "source": [
        "### 04. Function Statement"
      ]
    },
    {
      "cell_type": "markdown",
      "id": "ac2bae64",
      "metadata": {
        "id": "ac2bae64"
      },
      "source": [
        "(1) def name(params) : 함수설정 → You can return multiple variables(Keep them in order)"
      ]
    },
    {
      "cell_type": "code",
      "execution_count": null,
      "id": "8e2b18de",
      "metadata": {
        "id": "8e2b18de"
      },
      "outputs": [],
      "source": [
        "numA = 1\n",
        "numB = 2"
      ]
    },
    {
      "cell_type": "code",
      "execution_count": null,
      "id": "0a520dfd",
      "metadata": {
        "id": "0a520dfd"
      },
      "outputs": [],
      "source": [
        "def add(numParam1, numParam2):\n",
        "    return numParam1 + numParam2"
      ]
    },
    {
      "cell_type": "code",
      "execution_count": null,
      "id": "a6e1f478",
      "metadata": {
        "id": "a6e1f478"
      },
      "outputs": [],
      "source": [
        "def multiply(numParam1, numParam2):\n",
        "    return numParam1*2, numParam2*3"
      ]
    },
    {
      "cell_type": "code",
      "execution_count": null,
      "id": "1295f2bb",
      "metadata": {
        "id": "1295f2bb"
      },
      "outputs": [],
      "source": [
        "def increase(numParam1, step = 1):  #step 자리에 아무 숫자도 입력하지 않을 시, 1이 고정값으로 들어감\n",
        "    return numParam1+step"
      ]
    },
    {
      "cell_type": "code",
      "execution_count": null,
      "id": "f03e9605",
      "metadata": {
        "id": "f03e9605"
      },
      "outputs": [],
      "source": [
        "numC = add(numA, numB)\n",
        "numD, numE = multiply(numA, numB)\n",
        "numF = increase(numA, 5)\n",
        "numG = increase(numA) "
      ]
    },
    {
      "cell_type": "code",
      "execution_count": null,
      "id": "2e99d405",
      "metadata": {
        "id": "2e99d405",
        "outputId": "2fea8003-850d-49f3-f8e5-2c0ff35d27f5"
      },
      "outputs": [
        {
          "name": "stdout",
          "output_type": "stream",
          "text": [
            "3 2 6 6 2\n"
          ]
        }
      ],
      "source": [
        "print(numC, numD, numE, numF, numG)"
      ]
    },
    {
      "cell_type": "markdown",
      "id": "b9c02548",
      "metadata": {
        "id": "b9c02548"
      },
      "source": [
        "(2) lambda : One line function"
      ]
    },
    {
      "cell_type": "code",
      "execution_count": null,
      "id": "20a2b0f0",
      "metadata": {
        "id": "20a2b0f0"
      },
      "outputs": [],
      "source": [
        "lambdaAdd = lambda numParam1, numParam2 : numParam1 + numParam2"
      ]
    },
    {
      "cell_type": "code",
      "execution_count": null,
      "id": "c870a0e6",
      "metadata": {
        "id": "c870a0e6"
      },
      "outputs": [],
      "source": [
        "numH = lambdaAdd(numA, numB)"
      ]
    },
    {
      "cell_type": "code",
      "execution_count": null,
      "id": "b12adef0",
      "metadata": {
        "id": "b12adef0",
        "outputId": "c579092a-5d69-4d05-bc26-1bd9281d87d2"
      },
      "outputs": [
        {
          "name": "stdout",
          "output_type": "stream",
          "text": [
            "3 2 6 6 2 3\n"
          ]
        }
      ],
      "source": [
        "print(numC, numD, numE, numF, numG, numH)"
      ]
    },
    {
      "cell_type": "markdown",
      "id": "ff09a5cf",
      "metadata": {
        "id": "ff09a5cf"
      },
      "source": [
        "(3) Sample Program : Finding Prime Numbers "
      ]
    },
    {
      "cell_type": "code",
      "execution_count": null,
      "id": "5acec435",
      "metadata": {
        "id": "5acec435"
      },
      "outputs": [],
      "source": [
        "#### Function for calculation (Definition)\n",
        "def isPrimeNumber(numParam1):\n",
        "    for itr in range(2, numParam1):\n",
        "        if numParam1 % itr == 0:\n",
        "            break\n",
        "    else:\n",
        "        return True\n",
        "    return False"
      ]
    },
    {
      "cell_type": "code",
      "execution_count": null,
      "id": "52abd2e2",
      "metadata": {
        "id": "52abd2e2",
        "outputId": "8dcbc9ee-13ba-4393-ed03-31d5d22ae1c9"
      },
      "outputs": [
        {
          "data": {
            "text/plain": [
              "(False, True)"
            ]
          },
          "execution_count": 35,
          "metadata": {},
          "output_type": "execute_result"
        }
      ],
      "source": [
        "isPrimeNumber(10), isPrimeNumber(5)"
      ]
    },
    {
      "cell_type": "code",
      "execution_count": null,
      "id": "67f732a5",
      "metadata": {
        "id": "67f732a5"
      },
      "outputs": [],
      "source": [
        "#### Function for iteration (CALL)\n",
        "def findPrimes(numParam1, numParam2):\n",
        "    numCount = 1\n",
        "    for itr in range(numParam1, numParam2):\n",
        "        if isPrimeNumber(itr) == True:\n",
        "            print(numCount, \" th prime : \", itr)\n",
        "            numCount = numCount + 1"
      ]
    },
    {
      "cell_type": "code",
      "execution_count": null,
      "id": "14944cbc",
      "metadata": {
        "id": "14944cbc",
        "outputId": "743849b8-2435-4a90-e8c1-507b3b3cdfa8"
      },
      "outputs": [
        {
          "name": "stdout",
          "output_type": "stream",
          "text": [
            "1  th prime :  1\n",
            "2  th prime :  2\n",
            "3  th prime :  3\n",
            "4  th prime :  5\n",
            "5  th prime :  7\n"
          ]
        }
      ],
      "source": [
        "findPrimes(1, 10)"
      ]
    },
    {
      "cell_type": "markdown",
      "id": "11c22248",
      "metadata": {
        "id": "11c22248"
      },
      "source": [
        "### 05. Assignment and Equivalence"
      ]
    },
    {
      "cell_type": "code",
      "execution_count": null,
      "id": "aee7ac55",
      "metadata": {
        "id": "aee7ac55"
      },
      "outputs": [],
      "source": [
        "x = [1, 2, 3]\n",
        "y = [100, x, 120]\n",
        "z = [x, 'a', 'b']"
      ]
    },
    {
      "cell_type": "code",
      "execution_count": null,
      "id": "338a2e51",
      "metadata": {
        "id": "338a2e51",
        "outputId": "0b31e7d5-6b81-47a6-e805-1311f1f89f38"
      },
      "outputs": [
        {
          "name": "stdout",
          "output_type": "stream",
          "text": [
            "x:  [1, 2, 3]\n",
            "y:  [100, [1, 2, 3], 120]\n",
            "z:  [[1, 2, 3], 'a', 'b']\n"
          ]
        }
      ],
      "source": [
        "print('x: ', x)\n",
        "print('y: ', y)\n",
        "print('z: ', z)"
      ]
    },
    {
      "cell_type": "code",
      "execution_count": null,
      "id": "3d31435c",
      "metadata": {
        "id": "3d31435c",
        "outputId": "2a06b21a-0095-4bee-a810-501054f52f93"
      },
      "outputs": [
        {
          "data": {
            "text/plain": [
              "[1, 1717, 3]"
            ]
          },
          "execution_count": 41,
          "metadata": {},
          "output_type": "execute_result"
        }
      ],
      "source": [
        "x[1] = 1717\n",
        "x"
      ]
    },
    {
      "cell_type": "code",
      "execution_count": null,
      "id": "9ab0fdf4",
      "metadata": {
        "id": "9ab0fdf4",
        "outputId": "789901e1-9bf7-4121-ae16-1d5b19844441"
      },
      "outputs": [
        {
          "name": "stdout",
          "output_type": "stream",
          "text": [
            "[100, [1, 2, 3], 120] [[1, 2, 3], 'a', 'b']\n"
          ]
        }
      ],
      "source": [
        "#y를 수정하지 않더라도, x자체가 변하면 y 내의 x값도 변함 (reference 형태로 저장되는 것)\n",
        "print(y, z) "
      ]
    },
    {
      "cell_type": "code",
      "execution_count": null,
      "id": "a87e1f86",
      "metadata": {
        "id": "a87e1f86",
        "outputId": "fd27ec0e-1235-4fc8-cf34-c4b8c9558e8f"
      },
      "outputs": [
        {
          "name": "stdout",
          "output_type": "stream",
          "text": [
            "[1, 2, 3] [1, 2, 3]\n"
          ]
        }
      ],
      "source": [
        "x[1] = 2\n",
        "x2 = [1, 2, 3]\n",
        "print(x, x2)"
      ]
    },
    {
      "cell_type": "code",
      "execution_count": null,
      "id": "bb08e10b",
      "metadata": {
        "id": "bb08e10b",
        "outputId": "36ed49b5-0891-4282-910a-ec9203dfcc42"
      },
      "outputs": [
        {
          "name": "stdout",
          "output_type": "stream",
          "text": [
            "Values are equivalent\n"
          ]
        }
      ],
      "source": [
        "if x == x2:\n",
        "    print(\"Values are equivalent\")\n",
        "else:\n",
        "    print(\"Values are not equivalent\")"
      ]
    },
    {
      "cell_type": "code",
      "execution_count": null,
      "id": "ba9892c5",
      "metadata": {
        "id": "ba9892c5",
        "outputId": "fd2d2929-627e-462a-8057-83362783d063"
      },
      "outputs": [
        {
          "name": "stdout",
          "output_type": "stream",
          "text": [
            "Values are not stored at the same place\n"
          ]
        }
      ],
      "source": [
        "# 값이 같더라도 x와 x2는 다른 store space에 저장되어 있음\n",
        "\n",
        "if x is x2:\n",
        "    print(\"Values are stored at the same place\")\n",
        "else:\n",
        "    print(\"Values are not stored at the same place\")"
      ]
    },
    {
      "cell_type": "code",
      "execution_count": null,
      "id": "de4de652",
      "metadata": {
        "id": "de4de652",
        "outputId": "29c41d89-0008-4787-9069-ff5ebdfb7fdf"
      },
      "outputs": [
        {
          "name": "stdout",
          "output_type": "stream",
          "text": [
            "Values are stored at the same place\n"
          ]
        }
      ],
      "source": [
        " if x[1] is y[1][1]: # y[1][1] = x[1]\n",
        "    print(\"Values are stored at the same place\") \n",
        "else:\n",
        "    print(\"Values are not stored at the same place\")"
      ]
    },
    {
      "cell_type": "markdown",
      "id": "d3eddc24",
      "metadata": {
        "id": "d3eddc24"
      },
      "source": [
        "### 06. Class and Instance"
      ]
    },
    {
      "cell_type": "code",
      "execution_count": null,
      "id": "a14e356f",
      "metadata": {
        "id": "a14e356f"
      },
      "outputs": [],
      "source": [
        "class MyHome:\n",
        "    colorRoof = 'red'\n",
        "    stateDoor = 'closed'\n",
        "    def paintRoof(self, color):\n",
        "        self.colorRoof = color\n",
        "    def openDoor(self):\n",
        "        self.stateDoor = 'open'\n",
        "    def closeDoor(self):\n",
        "        self.stateDoor = 'close'\n",
        "    def printStatus(self):\n",
        "        print(\"Roof color is \", self.colorRoof, \", and door is\", self.stateDoor)"
      ]
    },
    {
      "cell_type": "code",
      "execution_count": null,
      "id": "ab46c81c",
      "metadata": {
        "id": "ab46c81c"
      },
      "outputs": [],
      "source": [
        "homeatDaegu = MyHome()\n",
        "homeatSeoul = MyHome()"
      ]
    },
    {
      "cell_type": "code",
      "execution_count": null,
      "id": "9c9c7226",
      "metadata": {
        "id": "9c9c7226",
        "outputId": "58f71e1a-6230-4efa-d639-b689b8e2a41a"
      },
      "outputs": [
        {
          "data": {
            "text/plain": [
              "False"
            ]
          },
          "execution_count": 49,
          "metadata": {},
          "output_type": "execute_result"
        }
      ],
      "source": [
        "homeatDaegu is homeatSeoul"
      ]
    },
    {
      "cell_type": "code",
      "execution_count": null,
      "id": "0a095275",
      "metadata": {
        "id": "0a095275"
      },
      "outputs": [],
      "source": [
        "homeatDaegu.paintRoof('blue')"
      ]
    },
    {
      "cell_type": "code",
      "execution_count": null,
      "id": "637fc226",
      "metadata": {
        "id": "637fc226"
      },
      "outputs": [],
      "source": [
        "homeatSeoul.openDoor()"
      ]
    },
    {
      "cell_type": "code",
      "execution_count": null,
      "id": "ccd07537",
      "metadata": {
        "id": "ccd07537",
        "outputId": "5d6ab680-aea0-44cd-f71d-50a624d4cfe6"
      },
      "outputs": [
        {
          "name": "stdout",
          "output_type": "stream",
          "text": [
            "Roof color is  blue , and door is closed\n"
          ]
        }
      ],
      "source": [
        "homeatDaegu.printStatus()"
      ]
    },
    {
      "cell_type": "code",
      "execution_count": null,
      "id": "c27aa04f",
      "metadata": {
        "id": "c27aa04f",
        "outputId": "7b578e25-f809-4af6-87e5-be288993ae7f"
      },
      "outputs": [
        {
          "name": "stdout",
          "output_type": "stream",
          "text": [
            "Roof color is  red , and door is open\n"
          ]
        }
      ],
      "source": [
        "homeatSeoul.printStatus()"
      ]
    },
    {
      "cell_type": "markdown",
      "id": "aa26e774",
      "metadata": {
        "id": "aa26e774"
      },
      "source": [
        "### 07. Important Methods in Class - Constructor, Destructor"
      ]
    },
    {
      "cell_type": "code",
      "execution_count": null,
      "id": "c106d78d",
      "metadata": {
        "id": "c106d78d"
      },
      "outputs": [],
      "source": [
        "# Constructor(생성자) : Called when instantiated ← instance를 초기화하여 우리가 원하는 형태로 저장하는 것\n",
        "# Deconstructor(소멸자) : Called when the instance is removed from the value table ← 안전한 프로그래밍을 위해 필요"
      ]
    },
    {
      "cell_type": "code",
      "execution_count": null,
      "id": "034b31f6",
      "metadata": {
        "id": "034b31f6"
      },
      "outputs": [],
      "source": [
        "from time import ctime"
      ]
    },
    {
      "cell_type": "code",
      "execution_count": null,
      "id": "091f496a",
      "metadata": {
        "id": "091f496a"
      },
      "outputs": [],
      "source": [
        "class MyHome:\n",
        "    colorRoof = 'red'\n",
        "    stateDoor = 'closed'\n",
        "    def paintRoof(self, color):\n",
        "        self.colorRoof = color\n",
        "    def openDoor(self):\n",
        "        self.stateDoor = 'open'\n",
        "    def closeDoor(self):\n",
        "        self.stateDoor = 'close'\n",
        "    def printStatus(self):\n",
        "        print(\"Roof color is \", self.colorRoof, \", and door is\", self.stateDoor)\n",
        "    def __int__(self, strAddress):\n",
        "        print(\"Built on\", strAddress)\n",
        "        print(\"Built at\", ctime())\n",
        "    def __del__(self):\n",
        "        print(\"Destroyed at\", ctime())"
      ]
    },
    {
      "cell_type": "markdown",
      "id": "d5345ec7",
      "metadata": {
        "id": "d5345ec7"
      },
      "source": [
        "### 08. Module and Import"
      ]
    },
    {
      "cell_type": "code",
      "execution_count": null,
      "id": "19e73074",
      "metadata": {
        "id": "19e73074"
      },
      "outputs": [],
      "source": [
        "# Packages : directories\n",
        "# Clusters Moules → filename.py\n",
        "# from package import module\n",
        "# Package has __init__.py in the directory"
      ]
    },
    {
      "cell_type": "code",
      "execution_count": null,
      "id": "476739b5",
      "metadata": {
        "id": "476739b5"
      },
      "outputs": [],
      "source": []
    }
  ],
  "metadata": {
    "kernelspec": {
      "display_name": "Python 3 (ipykernel)",
      "language": "python",
      "name": "python3"
    },
    "language_info": {
      "codemirror_mode": {
        "name": "ipython",
        "version": 3
      },
      "file_extension": ".py",
      "mimetype": "text/x-python",
      "name": "python",
      "nbconvert_exporter": "python",
      "pygments_lexer": "ipython3",
      "version": "3.9.13"
    },
    "colab": {
      "provenance": [],
      "include_colab_link": true
    }
  },
  "nbformat": 4,
  "nbformat_minor": 5
}